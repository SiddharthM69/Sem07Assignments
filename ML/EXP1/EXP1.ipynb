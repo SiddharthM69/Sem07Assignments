{
 "cells": [
  {
   "cell_type": "code",
   "execution_count": 135,
   "outputs": [],
   "source": [
    "import pandas as pd\n",
    "import numpy as np\n",
    "from scipy import stats\n",
    "pd.options.mode.chained_assignment = None "
   ],
   "metadata": {
    "collapsed": false,
    "ExecuteTime": {
     "end_time": "2023-08-31T13:28:05.441088400Z",
     "start_time": "2023-08-31T13:28:05.433527200Z"
    }
   },
   "id": "39aa191ea0e5eac3"
  },
  {
   "cell_type": "markdown",
   "source": [
    "Utilities class for different anonymous functions used throughout the program"
   ],
   "metadata": {
    "collapsed": false
   },
   "id": "4eb768fa08c7f44a"
  },
  {
   "cell_type": "code",
   "execution_count": 136,
   "id": "initial_id",
   "metadata": {
    "collapsed": true,
    "ExecuteTime": {
     "end_time": "2023-08-31T13:28:07.231689Z",
     "start_time": "2023-08-31T13:28:07.222530600Z"
    }
   },
   "outputs": [],
   "source": [
    "class Utilities:\n",
    "    def isfloat(a, num):\n",
    "        try:\n",
    "            float(num)\n",
    "            return True\n",
    "        except ValueError:\n",
    "            return False\n"
   ]
  },
  {
   "cell_type": "markdown",
   "source": [
    "Processing class for the preprocessing functions"
   ],
   "metadata": {
    "collapsed": false
   },
   "id": "a69c583a2d8d9a4d"
  },
  {
   "cell_type": "code",
   "execution_count": 137,
   "outputs": [],
   "source": [
    "class Preprocessing:\n",
    "    def __init__(self, path) -> None:\n",
    "        self.file = pd.read_csv(path)\n",
    "        self.util = Utilities()\n",
    "\n",
    "    def Imputation(self, path):\n",
    "        FeatureBeforeImpute = self.file[path]\n",
    "        toFill = [el for el in FeatureBeforeImpute.isnull()]\n",
    "        featureSum = 0\n",
    "        featureCount = 0\n",
    "        for i in range(0, len(toFill)):\n",
    "            if toFill[i] == False and self.util.isfloat(FeatureBeforeImpute[i]):\n",
    "                featureSum += float(FeatureBeforeImpute[i])\n",
    "                featureCount += 1\n",
    "        avgFeatureVal = featureSum / featureCount\n",
    "        avgFeatureVal = round(avgFeatureVal, 2)\n",
    "        for i in range(0, len(toFill)):\n",
    "            if toFill[i] is True or not self.util.isfloat(FeatureBeforeImpute[i]):\n",
    "                self.file[path][i] = avgFeatureVal\n",
    "        display(self.file)\n",
    "\n",
    "    def AnomalyDetection(self, path):\n",
    "        z = np.abs(stats.zscore(self.file[path]))\n",
    "        anomaly = np.where(z > 3)\n",
    "        for indArr in anomaly:\n",
    "            for ind in indArr:\n",
    "                self.file[path][ind]=\"-\"\n",
    "        self.Imputation(path)\n",
    "        \n",
    "\n",
    "    def Normalization(self, path):\n",
    "        FeatureBeforeImpute = self.file[path]\n",
    "        toFill = [el for el in FeatureBeforeImpute.isnull()]\n",
    "        featureSum = 0\n",
    "        featureCount = 0\n",
    "        for i in range(0, len(toFill)):\n",
    "            if toFill[i] is False and self.util.isfloat(FeatureBeforeImpute[i]):\n",
    "                featureSum += float(FeatureBeforeImpute[i])\n",
    "                featureCount += 1\n",
    "        avgFeatureVal = featureSum / featureCount\n",
    "        avgFeatureVal = round(avgFeatureVal, 2)\n",
    "        for i in range(0, len(toFill)):\n",
    "            if toFill[i] is True or not self.util.isfloat(FeatureBeforeImpute[i]):\n",
    "                self.file[path][i] = avgFeatureVal\n",
    "        print(self.file)\n",
    "        self.file.to_csv('travel-time-after-impute.csv')\n",
    "\n",
    "    def Encoding(self):\n",
    "        pass\n"
   ],
   "metadata": {
    "collapsed": false,
    "ExecuteTime": {
     "end_time": "2023-08-31T13:28:08.441001500Z",
     "start_time": "2023-08-31T13:28:08.435026800Z"
    }
   },
   "id": "8b58bb4ec8e577b1"
  },
  {
   "cell_type": "markdown",
   "source": [
    "Driver code for the program"
   ],
   "metadata": {
    "collapsed": false
   },
   "id": "d140aff44704e523"
  },
  {
   "cell_type": "markdown",
   "source": [
    "Create the object with the file path"
   ],
   "metadata": {
    "collapsed": false
   },
   "id": "442404dd080c192c"
  },
  {
   "cell_type": "code",
   "execution_count": 138,
   "outputs": [],
   "source": [
    "obj = Preprocessing('./travel-times.csv')"
   ],
   "metadata": {
    "collapsed": false,
    "ExecuteTime": {
     "end_time": "2023-08-31T13:28:11.493512400Z",
     "start_time": "2023-08-31T13:28:11.480416900Z"
    }
   },
   "id": "afc00f0f5faeac3e"
  },
  {
   "cell_type": "code",
   "execution_count": 139,
   "outputs": [
    {
     "data": {
      "text/plain": "          Date StartTime  DayOfWeek GoingTo  Distance  MaxSpeed  AvgSpeed  \\\n0     1/6/2012     16:37     Friday    Home     51.29     127.4      78.3   \n1     1/6/2012     08:20     Friday     GSK     51.63     130.3      81.8   \n2     1/4/2012     16:17  Wednesday    Home     51.27     127.4      82.0   \n3     1/4/2012     07:53  Wednesday     GSK     49.17     132.3      74.2   \n4     1/3/2012     18:57    Tuesday    Home     51.15     136.2      83.4   \n..         ...       ...        ...     ...       ...       ...       ...   \n200  7/18/2011     08:09     Monday     GSK     54.52     125.6      49.9   \n201  7/14/2011     08:03   Thursday     GSK     50.90     123.7      76.2   \n202  7/13/2011     17:08  Wednesday    Home     51.96     132.6      57.5   \n203  7/12/2011     17:51    Tuesday    Home     53.28     125.8      61.6   \n204  7/11/2011     16:56     Monday    Home     51.73     125.0      62.8   \n\n     AvgMovingSpeed FuelEconomy  TotalTime  MovingTime Take407All Comments  \n0              84.8        8.69       39.3        36.3         No      NaN  \n1              88.9        8.69       37.9        34.9         No      NaN  \n2              85.8        8.69       37.5        35.9         No      NaN  \n3              82.9        8.69       39.8        35.6         No      NaN  \n4              88.1        8.69       36.8        34.8         No      NaN  \n..              ...         ...        ...         ...        ...      ...  \n200            82.4        7.89       65.5        39.7         No      NaN  \n201            95.1        7.89       40.1        32.1        Yes      NaN  \n202            76.7        8.69       54.2        40.6        Yes      NaN  \n203            87.6        8.69       51.9        36.5        Yes      NaN  \n204            92.5        8.69       49.5        33.6        Yes      NaN  \n\n[205 rows x 13 columns]",
      "text/html": "<div>\n<style scoped>\n    .dataframe tbody tr th:only-of-type {\n        vertical-align: middle;\n    }\n\n    .dataframe tbody tr th {\n        vertical-align: top;\n    }\n\n    .dataframe thead th {\n        text-align: right;\n    }\n</style>\n<table border=\"1\" class=\"dataframe\">\n  <thead>\n    <tr style=\"text-align: right;\">\n      <th></th>\n      <th>Date</th>\n      <th>StartTime</th>\n      <th>DayOfWeek</th>\n      <th>GoingTo</th>\n      <th>Distance</th>\n      <th>MaxSpeed</th>\n      <th>AvgSpeed</th>\n      <th>AvgMovingSpeed</th>\n      <th>FuelEconomy</th>\n      <th>TotalTime</th>\n      <th>MovingTime</th>\n      <th>Take407All</th>\n      <th>Comments</th>\n    </tr>\n  </thead>\n  <tbody>\n    <tr>\n      <th>0</th>\n      <td>1/6/2012</td>\n      <td>16:37</td>\n      <td>Friday</td>\n      <td>Home</td>\n      <td>51.29</td>\n      <td>127.4</td>\n      <td>78.3</td>\n      <td>84.8</td>\n      <td>8.69</td>\n      <td>39.3</td>\n      <td>36.3</td>\n      <td>No</td>\n      <td>NaN</td>\n    </tr>\n    <tr>\n      <th>1</th>\n      <td>1/6/2012</td>\n      <td>08:20</td>\n      <td>Friday</td>\n      <td>GSK</td>\n      <td>51.63</td>\n      <td>130.3</td>\n      <td>81.8</td>\n      <td>88.9</td>\n      <td>8.69</td>\n      <td>37.9</td>\n      <td>34.9</td>\n      <td>No</td>\n      <td>NaN</td>\n    </tr>\n    <tr>\n      <th>2</th>\n      <td>1/4/2012</td>\n      <td>16:17</td>\n      <td>Wednesday</td>\n      <td>Home</td>\n      <td>51.27</td>\n      <td>127.4</td>\n      <td>82.0</td>\n      <td>85.8</td>\n      <td>8.69</td>\n      <td>37.5</td>\n      <td>35.9</td>\n      <td>No</td>\n      <td>NaN</td>\n    </tr>\n    <tr>\n      <th>3</th>\n      <td>1/4/2012</td>\n      <td>07:53</td>\n      <td>Wednesday</td>\n      <td>GSK</td>\n      <td>49.17</td>\n      <td>132.3</td>\n      <td>74.2</td>\n      <td>82.9</td>\n      <td>8.69</td>\n      <td>39.8</td>\n      <td>35.6</td>\n      <td>No</td>\n      <td>NaN</td>\n    </tr>\n    <tr>\n      <th>4</th>\n      <td>1/3/2012</td>\n      <td>18:57</td>\n      <td>Tuesday</td>\n      <td>Home</td>\n      <td>51.15</td>\n      <td>136.2</td>\n      <td>83.4</td>\n      <td>88.1</td>\n      <td>8.69</td>\n      <td>36.8</td>\n      <td>34.8</td>\n      <td>No</td>\n      <td>NaN</td>\n    </tr>\n    <tr>\n      <th>...</th>\n      <td>...</td>\n      <td>...</td>\n      <td>...</td>\n      <td>...</td>\n      <td>...</td>\n      <td>...</td>\n      <td>...</td>\n      <td>...</td>\n      <td>...</td>\n      <td>...</td>\n      <td>...</td>\n      <td>...</td>\n      <td>...</td>\n    </tr>\n    <tr>\n      <th>200</th>\n      <td>7/18/2011</td>\n      <td>08:09</td>\n      <td>Monday</td>\n      <td>GSK</td>\n      <td>54.52</td>\n      <td>125.6</td>\n      <td>49.9</td>\n      <td>82.4</td>\n      <td>7.89</td>\n      <td>65.5</td>\n      <td>39.7</td>\n      <td>No</td>\n      <td>NaN</td>\n    </tr>\n    <tr>\n      <th>201</th>\n      <td>7/14/2011</td>\n      <td>08:03</td>\n      <td>Thursday</td>\n      <td>GSK</td>\n      <td>50.90</td>\n      <td>123.7</td>\n      <td>76.2</td>\n      <td>95.1</td>\n      <td>7.89</td>\n      <td>40.1</td>\n      <td>32.1</td>\n      <td>Yes</td>\n      <td>NaN</td>\n    </tr>\n    <tr>\n      <th>202</th>\n      <td>7/13/2011</td>\n      <td>17:08</td>\n      <td>Wednesday</td>\n      <td>Home</td>\n      <td>51.96</td>\n      <td>132.6</td>\n      <td>57.5</td>\n      <td>76.7</td>\n      <td>8.69</td>\n      <td>54.2</td>\n      <td>40.6</td>\n      <td>Yes</td>\n      <td>NaN</td>\n    </tr>\n    <tr>\n      <th>203</th>\n      <td>7/12/2011</td>\n      <td>17:51</td>\n      <td>Tuesday</td>\n      <td>Home</td>\n      <td>53.28</td>\n      <td>125.8</td>\n      <td>61.6</td>\n      <td>87.6</td>\n      <td>8.69</td>\n      <td>51.9</td>\n      <td>36.5</td>\n      <td>Yes</td>\n      <td>NaN</td>\n    </tr>\n    <tr>\n      <th>204</th>\n      <td>7/11/2011</td>\n      <td>16:56</td>\n      <td>Monday</td>\n      <td>Home</td>\n      <td>51.73</td>\n      <td>125.0</td>\n      <td>62.8</td>\n      <td>92.5</td>\n      <td>8.69</td>\n      <td>49.5</td>\n      <td>33.6</td>\n      <td>Yes</td>\n      <td>NaN</td>\n    </tr>\n  </tbody>\n</table>\n<p>205 rows × 13 columns</p>\n</div>"
     },
     "metadata": {},
     "output_type": "display_data"
    }
   ],
   "source": [
    "obj.Imputation('FuelEconomy')"
   ],
   "metadata": {
    "collapsed": false,
    "ExecuteTime": {
     "end_time": "2023-08-31T13:28:13.571803900Z",
     "start_time": "2023-08-31T13:28:13.543681200Z"
    }
   },
   "id": "e4ce2fe727838790"
  },
  {
   "cell_type": "code",
   "execution_count": 140,
   "outputs": [
    {
     "data": {
      "text/plain": "          Date StartTime  DayOfWeek GoingTo Distance  MaxSpeed  AvgSpeed  \\\n0     1/6/2012     16:37     Friday    Home    51.29     127.4      78.3   \n1     1/6/2012     08:20     Friday     GSK    51.63     130.3      81.8   \n2     1/4/2012     16:17  Wednesday    Home    51.27     127.4      82.0   \n3     1/4/2012     07:53  Wednesday     GSK    49.17     132.3      74.2   \n4     1/3/2012     18:57    Tuesday    Home    51.15     136.2      83.4   \n..         ...       ...        ...     ...      ...       ...       ...   \n200  7/18/2011     08:09     Monday     GSK    54.52     125.6      49.9   \n201  7/14/2011     08:03   Thursday     GSK     50.9     123.7      76.2   \n202  7/13/2011     17:08  Wednesday    Home    51.96     132.6      57.5   \n203  7/12/2011     17:51    Tuesday    Home    53.28     125.8      61.6   \n204  7/11/2011     16:56     Monday    Home    51.73     125.0      62.8   \n\n     AvgMovingSpeed FuelEconomy  TotalTime  MovingTime Take407All Comments  \n0              84.8        8.69       39.3        36.3         No      NaN  \n1              88.9        8.69       37.9        34.9         No      NaN  \n2              85.8        8.69       37.5        35.9         No      NaN  \n3              82.9        8.69       39.8        35.6         No      NaN  \n4              88.1        8.69       36.8        34.8         No      NaN  \n..              ...         ...        ...         ...        ...      ...  \n200            82.4        7.89       65.5        39.7         No      NaN  \n201            95.1        7.89       40.1        32.1        Yes      NaN  \n202            76.7        8.69       54.2        40.6        Yes      NaN  \n203            87.6        8.69       51.9        36.5        Yes      NaN  \n204            92.5        8.69       49.5        33.6        Yes      NaN  \n\n[205 rows x 13 columns]",
      "text/html": "<div>\n<style scoped>\n    .dataframe tbody tr th:only-of-type {\n        vertical-align: middle;\n    }\n\n    .dataframe tbody tr th {\n        vertical-align: top;\n    }\n\n    .dataframe thead th {\n        text-align: right;\n    }\n</style>\n<table border=\"1\" class=\"dataframe\">\n  <thead>\n    <tr style=\"text-align: right;\">\n      <th></th>\n      <th>Date</th>\n      <th>StartTime</th>\n      <th>DayOfWeek</th>\n      <th>GoingTo</th>\n      <th>Distance</th>\n      <th>MaxSpeed</th>\n      <th>AvgSpeed</th>\n      <th>AvgMovingSpeed</th>\n      <th>FuelEconomy</th>\n      <th>TotalTime</th>\n      <th>MovingTime</th>\n      <th>Take407All</th>\n      <th>Comments</th>\n    </tr>\n  </thead>\n  <tbody>\n    <tr>\n      <th>0</th>\n      <td>1/6/2012</td>\n      <td>16:37</td>\n      <td>Friday</td>\n      <td>Home</td>\n      <td>51.29</td>\n      <td>127.4</td>\n      <td>78.3</td>\n      <td>84.8</td>\n      <td>8.69</td>\n      <td>39.3</td>\n      <td>36.3</td>\n      <td>No</td>\n      <td>NaN</td>\n    </tr>\n    <tr>\n      <th>1</th>\n      <td>1/6/2012</td>\n      <td>08:20</td>\n      <td>Friday</td>\n      <td>GSK</td>\n      <td>51.63</td>\n      <td>130.3</td>\n      <td>81.8</td>\n      <td>88.9</td>\n      <td>8.69</td>\n      <td>37.9</td>\n      <td>34.9</td>\n      <td>No</td>\n      <td>NaN</td>\n    </tr>\n    <tr>\n      <th>2</th>\n      <td>1/4/2012</td>\n      <td>16:17</td>\n      <td>Wednesday</td>\n      <td>Home</td>\n      <td>51.27</td>\n      <td>127.4</td>\n      <td>82.0</td>\n      <td>85.8</td>\n      <td>8.69</td>\n      <td>37.5</td>\n      <td>35.9</td>\n      <td>No</td>\n      <td>NaN</td>\n    </tr>\n    <tr>\n      <th>3</th>\n      <td>1/4/2012</td>\n      <td>07:53</td>\n      <td>Wednesday</td>\n      <td>GSK</td>\n      <td>49.17</td>\n      <td>132.3</td>\n      <td>74.2</td>\n      <td>82.9</td>\n      <td>8.69</td>\n      <td>39.8</td>\n      <td>35.6</td>\n      <td>No</td>\n      <td>NaN</td>\n    </tr>\n    <tr>\n      <th>4</th>\n      <td>1/3/2012</td>\n      <td>18:57</td>\n      <td>Tuesday</td>\n      <td>Home</td>\n      <td>51.15</td>\n      <td>136.2</td>\n      <td>83.4</td>\n      <td>88.1</td>\n      <td>8.69</td>\n      <td>36.8</td>\n      <td>34.8</td>\n      <td>No</td>\n      <td>NaN</td>\n    </tr>\n    <tr>\n      <th>...</th>\n      <td>...</td>\n      <td>...</td>\n      <td>...</td>\n      <td>...</td>\n      <td>...</td>\n      <td>...</td>\n      <td>...</td>\n      <td>...</td>\n      <td>...</td>\n      <td>...</td>\n      <td>...</td>\n      <td>...</td>\n      <td>...</td>\n    </tr>\n    <tr>\n      <th>200</th>\n      <td>7/18/2011</td>\n      <td>08:09</td>\n      <td>Monday</td>\n      <td>GSK</td>\n      <td>54.52</td>\n      <td>125.6</td>\n      <td>49.9</td>\n      <td>82.4</td>\n      <td>7.89</td>\n      <td>65.5</td>\n      <td>39.7</td>\n      <td>No</td>\n      <td>NaN</td>\n    </tr>\n    <tr>\n      <th>201</th>\n      <td>7/14/2011</td>\n      <td>08:03</td>\n      <td>Thursday</td>\n      <td>GSK</td>\n      <td>50.9</td>\n      <td>123.7</td>\n      <td>76.2</td>\n      <td>95.1</td>\n      <td>7.89</td>\n      <td>40.1</td>\n      <td>32.1</td>\n      <td>Yes</td>\n      <td>NaN</td>\n    </tr>\n    <tr>\n      <th>202</th>\n      <td>7/13/2011</td>\n      <td>17:08</td>\n      <td>Wednesday</td>\n      <td>Home</td>\n      <td>51.96</td>\n      <td>132.6</td>\n      <td>57.5</td>\n      <td>76.7</td>\n      <td>8.69</td>\n      <td>54.2</td>\n      <td>40.6</td>\n      <td>Yes</td>\n      <td>NaN</td>\n    </tr>\n    <tr>\n      <th>203</th>\n      <td>7/12/2011</td>\n      <td>17:51</td>\n      <td>Tuesday</td>\n      <td>Home</td>\n      <td>53.28</td>\n      <td>125.8</td>\n      <td>61.6</td>\n      <td>87.6</td>\n      <td>8.69</td>\n      <td>51.9</td>\n      <td>36.5</td>\n      <td>Yes</td>\n      <td>NaN</td>\n    </tr>\n    <tr>\n      <th>204</th>\n      <td>7/11/2011</td>\n      <td>16:56</td>\n      <td>Monday</td>\n      <td>Home</td>\n      <td>51.73</td>\n      <td>125.0</td>\n      <td>62.8</td>\n      <td>92.5</td>\n      <td>8.69</td>\n      <td>49.5</td>\n      <td>33.6</td>\n      <td>Yes</td>\n      <td>NaN</td>\n    </tr>\n  </tbody>\n</table>\n<p>205 rows × 13 columns</p>\n</div>"
     },
     "metadata": {},
     "output_type": "display_data"
    }
   ],
   "source": [
    "obj.AnomalyDetection('Distance')"
   ],
   "metadata": {
    "collapsed": false,
    "ExecuteTime": {
     "end_time": "2023-08-31T13:28:17.736683200Z",
     "start_time": "2023-08-31T13:28:17.719241400Z"
    }
   },
   "id": "2d148d445adc547f"
  },
  {
   "cell_type": "markdown",
   "source": [],
   "metadata": {
    "collapsed": false
   },
   "id": "7d6c703962ff8be2"
  }
 ],
 "metadata": {
  "kernelspec": {
   "display_name": "Python 3",
   "language": "python",
   "name": "python3"
  },
  "language_info": {
   "codemirror_mode": {
    "name": "ipython",
    "version": 2
   },
   "file_extension": ".py",
   "mimetype": "text/x-python",
   "name": "python",
   "nbconvert_exporter": "python",
   "pygments_lexer": "ipython2",
   "version": "2.7.6"
  }
 },
 "nbformat": 4,
 "nbformat_minor": 5
}
