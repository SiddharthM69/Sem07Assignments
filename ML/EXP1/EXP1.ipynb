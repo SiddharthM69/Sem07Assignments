{
 "cells": [
  {
   "cell_type": "code",
   "execution_count": 2,
   "id": "39aa191ea0e5eac3",
   "metadata": {
    "collapsed": false,
    "ExecuteTime": {
     "end_time": "2023-10-18T05:02:49.828451200Z",
     "start_time": "2023-10-18T05:02:47.408580500Z"
    }
   },
   "outputs": [],
   "source": [
    "import pandas as pd\n",
    "import numpy as np\n",
    "from scipy import stats\n",
    "pd.options.mode.chained_assignment = None "
   ]
  },
  {
   "cell_type": "markdown",
   "id": "4eb768fa08c7f44a",
   "metadata": {
    "collapsed": false
   },
   "source": [
    "Utilities class for different anonymous functions used throughout the program"
   ]
  },
  {
   "cell_type": "code",
   "execution_count": 3,
   "id": "initial_id",
   "metadata": {
    "collapsed": true,
    "jupyter": {
     "outputs_hidden": true
    },
    "ExecuteTime": {
     "end_time": "2023-10-18T05:02:49.842320600Z",
     "start_time": "2023-10-18T05:02:49.832606500Z"
    }
   },
   "outputs": [],
   "source": [
    "class Utilities:\n",
    "    def isfloat(a, num):\n",
    "        try:\n",
    "            float(num)\n",
    "            return True\n",
    "        except ValueError:\n",
    "            return False\n"
   ]
  },
  {
   "cell_type": "markdown",
   "id": "a69c583a2d8d9a4d",
   "metadata": {
    "collapsed": false
   },
   "source": [
    "Processing class for the preprocessing functions"
   ]
  },
  {
   "cell_type": "code",
   "execution_count": 4,
   "id": "8b58bb4ec8e577b1",
   "metadata": {
    "collapsed": false,
    "ExecuteTime": {
     "end_time": "2023-10-18T05:02:49.856870100Z",
     "start_time": "2023-10-18T05:02:49.847400600Z"
    }
   },
   "outputs": [],
   "source": [
    "class Preprocessing:\n",
    "    def __init__(self, path) -> None:\n",
    "        self.file = pd.read_csv(path)\n",
    "        display(self.file)\n",
    "        self.util = Utilities()\n",
    "\n",
    "    def Imputation(self, path):\n",
    "        FeatureBeforeImpute = self.file[path]\n",
    "        toFill = [el for el in FeatureBeforeImpute.isnull()]\n",
    "        featureSum = 0\n",
    "        featureCount = 0\n",
    "        for i in range(0, len(toFill)):\n",
    "            if toFill[i] == False and self.util.isfloat(FeatureBeforeImpute[i]):\n",
    "                featureSum += float(FeatureBeforeImpute[i])\n",
    "                featureCount += 1\n",
    "        avgFeatureVal = featureSum / featureCount\n",
    "        avgFeatureVal = round(avgFeatureVal, 2)\n",
    "        for i in range(0, len(toFill)):\n",
    "            if toFill[i] is True or not self.util.isfloat(FeatureBeforeImpute[i]):\n",
    "                self.file[path][i] = avgFeatureVal\n",
    "        display(self.file)\n",
    "\n",
    "    def AnomalyDetection(self, path):\n",
    "        z = np.abs(stats.zscore(self.file[path]))\n",
    "        anomaly = np.where(z > 3)\n",
    "        for indArr in anomaly:\n",
    "            for ind in indArr:\n",
    "                self.file[path][ind]=\"-\"\n",
    "        self.Imputation(path)\n",
    "        \n",
    "\n",
    "    def Normalization(self, path):\n",
    "        dataInPath=self.file[path]\n",
    "        maxPath=float(dataInPath.max())\n",
    "        minPath=float(dataInPath.min())\n",
    "        for i in range(0,len(dataInPath)):\n",
    "            self.file[path][i]=round((float(self.file[path][i])-minPath)/(maxPath-minPath),2)\n",
    "        display(self.file)\n",
    "        \n",
    "\n",
    "    def Encoding(self,path):\n",
    "        Yes=[]\n",
    "        No=[]\n",
    "        for i in range(0,len(self.file[path])):\n",
    "            if(self.file[path][i]=='Yes'):\n",
    "                Yes.append(1)\n",
    "                No.append(0)\n",
    "            if(self.file[path][i]=='No'):\n",
    "                Yes.append(0)\n",
    "                No.append(1)\n",
    "        self.file['Yes']=Yes\n",
    "        self.file['No']=No\n",
    "        display(self.file)\n",
    "    \n",
    "    \n",
    "    def Standardization(self,path):\n",
    "        z=[]\n",
    "        dataMean=self.file[path].mean()\n",
    "        dataStdDeviation=self.file[path].std()\n",
    "        \n",
    "        for i in range(0,len(self.file[path])):\n",
    "            zScore=round((float(self.file[path][i])-dataMean)/dataStdDeviation,2)\n",
    "            z.append(zScore)\n",
    "        \n",
    "        self.file[path+'-zScore']=z\n",
    "        display(self.file)\n",
    "        \n",
    "                \n"
   ]
  },
  {
   "cell_type": "markdown",
   "id": "d140aff44704e523",
   "metadata": {
    "collapsed": false
   },
   "source": [
    "Driver code for the program"
   ]
  },
  {
   "cell_type": "markdown",
   "id": "442404dd080c192c",
   "metadata": {
    "collapsed": false
   },
   "source": [
    "Create the object with the file path"
   ]
  },
  {
   "cell_type": "code",
   "execution_count": 5,
   "id": "afc00f0f5faeac3e",
   "metadata": {
    "collapsed": false,
    "ExecuteTime": {
     "end_time": "2023-10-18T05:02:49.916919800Z",
     "start_time": "2023-10-18T05:02:49.856870100Z"
    }
   },
   "outputs": [
    {
     "data": {
      "text/plain": "          Date StartTime  DayOfWeek GoingTo  Distance  MaxSpeed  AvgSpeed  \\\n0     1/6/2012     16:37     Friday    Home     51.29     127.4      78.3   \n1     1/6/2012     08:20     Friday     GSK     51.63     130.3      81.8   \n2     1/4/2012     16:17  Wednesday    Home     51.27     127.4      82.0   \n3     1/4/2012     07:53  Wednesday     GSK     49.17     132.3      74.2   \n4     1/3/2012     18:57    Tuesday    Home     51.15     136.2      83.4   \n..         ...       ...        ...     ...       ...       ...       ...   \n200  7/18/2011     08:09     Monday     GSK     54.52     125.6      49.9   \n201  7/14/2011     08:03   Thursday     GSK     50.90     123.7      76.2   \n202  7/13/2011     17:08  Wednesday    Home     51.96     132.6      57.5   \n203  7/12/2011     17:51    Tuesday    Home     53.28     125.8      61.6   \n204  7/11/2011     16:56     Monday    Home     51.73     125.0      62.8   \n\n     AvgMovingSpeed FuelEconomy  TotalTime  MovingTime Take407All Comments  \n0              84.8         NaN       39.3        36.3         No      NaN  \n1              88.9         NaN       37.9        34.9         No      NaN  \n2              85.8         NaN       37.5        35.9         No      NaN  \n3              82.9         NaN       39.8        35.6         No      NaN  \n4              88.1         NaN       36.8        34.8         No      NaN  \n..              ...         ...        ...         ...        ...      ...  \n200            82.4        7.89       65.5        39.7         No      NaN  \n201            95.1        7.89       40.1        32.1        Yes      NaN  \n202            76.7         NaN       54.2        40.6        Yes      NaN  \n203            87.6         NaN       51.9        36.5        Yes      NaN  \n204            92.5         NaN       49.5        33.6        Yes      NaN  \n\n[205 rows x 13 columns]",
      "text/html": "<div>\n<style scoped>\n    .dataframe tbody tr th:only-of-type {\n        vertical-align: middle;\n    }\n\n    .dataframe tbody tr th {\n        vertical-align: top;\n    }\n\n    .dataframe thead th {\n        text-align: right;\n    }\n</style>\n<table border=\"1\" class=\"dataframe\">\n  <thead>\n    <tr style=\"text-align: right;\">\n      <th></th>\n      <th>Date</th>\n      <th>StartTime</th>\n      <th>DayOfWeek</th>\n      <th>GoingTo</th>\n      <th>Distance</th>\n      <th>MaxSpeed</th>\n      <th>AvgSpeed</th>\n      <th>AvgMovingSpeed</th>\n      <th>FuelEconomy</th>\n      <th>TotalTime</th>\n      <th>MovingTime</th>\n      <th>Take407All</th>\n      <th>Comments</th>\n    </tr>\n  </thead>\n  <tbody>\n    <tr>\n      <th>0</th>\n      <td>1/6/2012</td>\n      <td>16:37</td>\n      <td>Friday</td>\n      <td>Home</td>\n      <td>51.29</td>\n      <td>127.4</td>\n      <td>78.3</td>\n      <td>84.8</td>\n      <td>NaN</td>\n      <td>39.3</td>\n      <td>36.3</td>\n      <td>No</td>\n      <td>NaN</td>\n    </tr>\n    <tr>\n      <th>1</th>\n      <td>1/6/2012</td>\n      <td>08:20</td>\n      <td>Friday</td>\n      <td>GSK</td>\n      <td>51.63</td>\n      <td>130.3</td>\n      <td>81.8</td>\n      <td>88.9</td>\n      <td>NaN</td>\n      <td>37.9</td>\n      <td>34.9</td>\n      <td>No</td>\n      <td>NaN</td>\n    </tr>\n    <tr>\n      <th>2</th>\n      <td>1/4/2012</td>\n      <td>16:17</td>\n      <td>Wednesday</td>\n      <td>Home</td>\n      <td>51.27</td>\n      <td>127.4</td>\n      <td>82.0</td>\n      <td>85.8</td>\n      <td>NaN</td>\n      <td>37.5</td>\n      <td>35.9</td>\n      <td>No</td>\n      <td>NaN</td>\n    </tr>\n    <tr>\n      <th>3</th>\n      <td>1/4/2012</td>\n      <td>07:53</td>\n      <td>Wednesday</td>\n      <td>GSK</td>\n      <td>49.17</td>\n      <td>132.3</td>\n      <td>74.2</td>\n      <td>82.9</td>\n      <td>NaN</td>\n      <td>39.8</td>\n      <td>35.6</td>\n      <td>No</td>\n      <td>NaN</td>\n    </tr>\n    <tr>\n      <th>4</th>\n      <td>1/3/2012</td>\n      <td>18:57</td>\n      <td>Tuesday</td>\n      <td>Home</td>\n      <td>51.15</td>\n      <td>136.2</td>\n      <td>83.4</td>\n      <td>88.1</td>\n      <td>NaN</td>\n      <td>36.8</td>\n      <td>34.8</td>\n      <td>No</td>\n      <td>NaN</td>\n    </tr>\n    <tr>\n      <th>...</th>\n      <td>...</td>\n      <td>...</td>\n      <td>...</td>\n      <td>...</td>\n      <td>...</td>\n      <td>...</td>\n      <td>...</td>\n      <td>...</td>\n      <td>...</td>\n      <td>...</td>\n      <td>...</td>\n      <td>...</td>\n      <td>...</td>\n    </tr>\n    <tr>\n      <th>200</th>\n      <td>7/18/2011</td>\n      <td>08:09</td>\n      <td>Monday</td>\n      <td>GSK</td>\n      <td>54.52</td>\n      <td>125.6</td>\n      <td>49.9</td>\n      <td>82.4</td>\n      <td>7.89</td>\n      <td>65.5</td>\n      <td>39.7</td>\n      <td>No</td>\n      <td>NaN</td>\n    </tr>\n    <tr>\n      <th>201</th>\n      <td>7/14/2011</td>\n      <td>08:03</td>\n      <td>Thursday</td>\n      <td>GSK</td>\n      <td>50.90</td>\n      <td>123.7</td>\n      <td>76.2</td>\n      <td>95.1</td>\n      <td>7.89</td>\n      <td>40.1</td>\n      <td>32.1</td>\n      <td>Yes</td>\n      <td>NaN</td>\n    </tr>\n    <tr>\n      <th>202</th>\n      <td>7/13/2011</td>\n      <td>17:08</td>\n      <td>Wednesday</td>\n      <td>Home</td>\n      <td>51.96</td>\n      <td>132.6</td>\n      <td>57.5</td>\n      <td>76.7</td>\n      <td>NaN</td>\n      <td>54.2</td>\n      <td>40.6</td>\n      <td>Yes</td>\n      <td>NaN</td>\n    </tr>\n    <tr>\n      <th>203</th>\n      <td>7/12/2011</td>\n      <td>17:51</td>\n      <td>Tuesday</td>\n      <td>Home</td>\n      <td>53.28</td>\n      <td>125.8</td>\n      <td>61.6</td>\n      <td>87.6</td>\n      <td>NaN</td>\n      <td>51.9</td>\n      <td>36.5</td>\n      <td>Yes</td>\n      <td>NaN</td>\n    </tr>\n    <tr>\n      <th>204</th>\n      <td>7/11/2011</td>\n      <td>16:56</td>\n      <td>Monday</td>\n      <td>Home</td>\n      <td>51.73</td>\n      <td>125.0</td>\n      <td>62.8</td>\n      <td>92.5</td>\n      <td>NaN</td>\n      <td>49.5</td>\n      <td>33.6</td>\n      <td>Yes</td>\n      <td>NaN</td>\n    </tr>\n  </tbody>\n</table>\n<p>205 rows × 13 columns</p>\n</div>"
     },
     "metadata": {},
     "output_type": "display_data"
    }
   ],
   "source": [
    "obj = Preprocessing('./travel-times.csv')"
   ]
  },
  {
   "cell_type": "code",
   "execution_count": 6,
   "id": "e4ce2fe727838790",
   "metadata": {
    "collapsed": false,
    "ExecuteTime": {
     "end_time": "2023-10-18T05:02:50.012983300Z",
     "start_time": "2023-10-18T05:02:49.914918200Z"
    }
   },
   "outputs": [
    {
     "data": {
      "text/plain": "          Date StartTime  DayOfWeek GoingTo  Distance  MaxSpeed  AvgSpeed  \\\n0     1/6/2012     16:37     Friday    Home     51.29     127.4      78.3   \n1     1/6/2012     08:20     Friday     GSK     51.63     130.3      81.8   \n2     1/4/2012     16:17  Wednesday    Home     51.27     127.4      82.0   \n3     1/4/2012     07:53  Wednesday     GSK     49.17     132.3      74.2   \n4     1/3/2012     18:57    Tuesday    Home     51.15     136.2      83.4   \n..         ...       ...        ...     ...       ...       ...       ...   \n200  7/18/2011     08:09     Monday     GSK     54.52     125.6      49.9   \n201  7/14/2011     08:03   Thursday     GSK     50.90     123.7      76.2   \n202  7/13/2011     17:08  Wednesday    Home     51.96     132.6      57.5   \n203  7/12/2011     17:51    Tuesday    Home     53.28     125.8      61.6   \n204  7/11/2011     16:56     Monday    Home     51.73     125.0      62.8   \n\n     AvgMovingSpeed FuelEconomy  TotalTime  MovingTime Take407All Comments  \n0              84.8        8.69       39.3        36.3         No      NaN  \n1              88.9        8.69       37.9        34.9         No      NaN  \n2              85.8        8.69       37.5        35.9         No      NaN  \n3              82.9        8.69       39.8        35.6         No      NaN  \n4              88.1        8.69       36.8        34.8         No      NaN  \n..              ...         ...        ...         ...        ...      ...  \n200            82.4        7.89       65.5        39.7         No      NaN  \n201            95.1        7.89       40.1        32.1        Yes      NaN  \n202            76.7        8.69       54.2        40.6        Yes      NaN  \n203            87.6        8.69       51.9        36.5        Yes      NaN  \n204            92.5        8.69       49.5        33.6        Yes      NaN  \n\n[205 rows x 13 columns]",
      "text/html": "<div>\n<style scoped>\n    .dataframe tbody tr th:only-of-type {\n        vertical-align: middle;\n    }\n\n    .dataframe tbody tr th {\n        vertical-align: top;\n    }\n\n    .dataframe thead th {\n        text-align: right;\n    }\n</style>\n<table border=\"1\" class=\"dataframe\">\n  <thead>\n    <tr style=\"text-align: right;\">\n      <th></th>\n      <th>Date</th>\n      <th>StartTime</th>\n      <th>DayOfWeek</th>\n      <th>GoingTo</th>\n      <th>Distance</th>\n      <th>MaxSpeed</th>\n      <th>AvgSpeed</th>\n      <th>AvgMovingSpeed</th>\n      <th>FuelEconomy</th>\n      <th>TotalTime</th>\n      <th>MovingTime</th>\n      <th>Take407All</th>\n      <th>Comments</th>\n    </tr>\n  </thead>\n  <tbody>\n    <tr>\n      <th>0</th>\n      <td>1/6/2012</td>\n      <td>16:37</td>\n      <td>Friday</td>\n      <td>Home</td>\n      <td>51.29</td>\n      <td>127.4</td>\n      <td>78.3</td>\n      <td>84.8</td>\n      <td>8.69</td>\n      <td>39.3</td>\n      <td>36.3</td>\n      <td>No</td>\n      <td>NaN</td>\n    </tr>\n    <tr>\n      <th>1</th>\n      <td>1/6/2012</td>\n      <td>08:20</td>\n      <td>Friday</td>\n      <td>GSK</td>\n      <td>51.63</td>\n      <td>130.3</td>\n      <td>81.8</td>\n      <td>88.9</td>\n      <td>8.69</td>\n      <td>37.9</td>\n      <td>34.9</td>\n      <td>No</td>\n      <td>NaN</td>\n    </tr>\n    <tr>\n      <th>2</th>\n      <td>1/4/2012</td>\n      <td>16:17</td>\n      <td>Wednesday</td>\n      <td>Home</td>\n      <td>51.27</td>\n      <td>127.4</td>\n      <td>82.0</td>\n      <td>85.8</td>\n      <td>8.69</td>\n      <td>37.5</td>\n      <td>35.9</td>\n      <td>No</td>\n      <td>NaN</td>\n    </tr>\n    <tr>\n      <th>3</th>\n      <td>1/4/2012</td>\n      <td>07:53</td>\n      <td>Wednesday</td>\n      <td>GSK</td>\n      <td>49.17</td>\n      <td>132.3</td>\n      <td>74.2</td>\n      <td>82.9</td>\n      <td>8.69</td>\n      <td>39.8</td>\n      <td>35.6</td>\n      <td>No</td>\n      <td>NaN</td>\n    </tr>\n    <tr>\n      <th>4</th>\n      <td>1/3/2012</td>\n      <td>18:57</td>\n      <td>Tuesday</td>\n      <td>Home</td>\n      <td>51.15</td>\n      <td>136.2</td>\n      <td>83.4</td>\n      <td>88.1</td>\n      <td>8.69</td>\n      <td>36.8</td>\n      <td>34.8</td>\n      <td>No</td>\n      <td>NaN</td>\n    </tr>\n    <tr>\n      <th>...</th>\n      <td>...</td>\n      <td>...</td>\n      <td>...</td>\n      <td>...</td>\n      <td>...</td>\n      <td>...</td>\n      <td>...</td>\n      <td>...</td>\n      <td>...</td>\n      <td>...</td>\n      <td>...</td>\n      <td>...</td>\n      <td>...</td>\n    </tr>\n    <tr>\n      <th>200</th>\n      <td>7/18/2011</td>\n      <td>08:09</td>\n      <td>Monday</td>\n      <td>GSK</td>\n      <td>54.52</td>\n      <td>125.6</td>\n      <td>49.9</td>\n      <td>82.4</td>\n      <td>7.89</td>\n      <td>65.5</td>\n      <td>39.7</td>\n      <td>No</td>\n      <td>NaN</td>\n    </tr>\n    <tr>\n      <th>201</th>\n      <td>7/14/2011</td>\n      <td>08:03</td>\n      <td>Thursday</td>\n      <td>GSK</td>\n      <td>50.90</td>\n      <td>123.7</td>\n      <td>76.2</td>\n      <td>95.1</td>\n      <td>7.89</td>\n      <td>40.1</td>\n      <td>32.1</td>\n      <td>Yes</td>\n      <td>NaN</td>\n    </tr>\n    <tr>\n      <th>202</th>\n      <td>7/13/2011</td>\n      <td>17:08</td>\n      <td>Wednesday</td>\n      <td>Home</td>\n      <td>51.96</td>\n      <td>132.6</td>\n      <td>57.5</td>\n      <td>76.7</td>\n      <td>8.69</td>\n      <td>54.2</td>\n      <td>40.6</td>\n      <td>Yes</td>\n      <td>NaN</td>\n    </tr>\n    <tr>\n      <th>203</th>\n      <td>7/12/2011</td>\n      <td>17:51</td>\n      <td>Tuesday</td>\n      <td>Home</td>\n      <td>53.28</td>\n      <td>125.8</td>\n      <td>61.6</td>\n      <td>87.6</td>\n      <td>8.69</td>\n      <td>51.9</td>\n      <td>36.5</td>\n      <td>Yes</td>\n      <td>NaN</td>\n    </tr>\n    <tr>\n      <th>204</th>\n      <td>7/11/2011</td>\n      <td>16:56</td>\n      <td>Monday</td>\n      <td>Home</td>\n      <td>51.73</td>\n      <td>125.0</td>\n      <td>62.8</td>\n      <td>92.5</td>\n      <td>8.69</td>\n      <td>49.5</td>\n      <td>33.6</td>\n      <td>Yes</td>\n      <td>NaN</td>\n    </tr>\n  </tbody>\n</table>\n<p>205 rows × 13 columns</p>\n</div>"
     },
     "metadata": {},
     "output_type": "display_data"
    }
   ],
   "source": [
    "obj.Imputation('FuelEconomy')"
   ]
  },
  {
   "cell_type": "code",
   "execution_count": 7,
   "id": "2d148d445adc547f",
   "metadata": {
    "collapsed": false,
    "ExecuteTime": {
     "end_time": "2023-10-18T05:02:50.068582900Z",
     "start_time": "2023-10-18T05:02:49.956266900Z"
    }
   },
   "outputs": [
    {
     "data": {
      "text/plain": "          Date StartTime  DayOfWeek GoingTo Distance  MaxSpeed  AvgSpeed  \\\n0     1/6/2012     16:37     Friday    Home    51.29     127.4      78.3   \n1     1/6/2012     08:20     Friday     GSK    51.63     130.3      81.8   \n2     1/4/2012     16:17  Wednesday    Home    51.27     127.4      82.0   \n3     1/4/2012     07:53  Wednesday     GSK    49.17     132.3      74.2   \n4     1/3/2012     18:57    Tuesday    Home    51.15     136.2      83.4   \n..         ...       ...        ...     ...      ...       ...       ...   \n200  7/18/2011     08:09     Monday     GSK    54.52     125.6      49.9   \n201  7/14/2011     08:03   Thursday     GSK     50.9     123.7      76.2   \n202  7/13/2011     17:08  Wednesday    Home    51.96     132.6      57.5   \n203  7/12/2011     17:51    Tuesday    Home    53.28     125.8      61.6   \n204  7/11/2011     16:56     Monday    Home    51.73     125.0      62.8   \n\n     AvgMovingSpeed FuelEconomy  TotalTime  MovingTime Take407All Comments  \n0              84.8        8.69       39.3        36.3         No      NaN  \n1              88.9        8.69       37.9        34.9         No      NaN  \n2              85.8        8.69       37.5        35.9         No      NaN  \n3              82.9        8.69       39.8        35.6         No      NaN  \n4              88.1        8.69       36.8        34.8         No      NaN  \n..              ...         ...        ...         ...        ...      ...  \n200            82.4        7.89       65.5        39.7         No      NaN  \n201            95.1        7.89       40.1        32.1        Yes      NaN  \n202            76.7        8.69       54.2        40.6        Yes      NaN  \n203            87.6        8.69       51.9        36.5        Yes      NaN  \n204            92.5        8.69       49.5        33.6        Yes      NaN  \n\n[205 rows x 13 columns]",
      "text/html": "<div>\n<style scoped>\n    .dataframe tbody tr th:only-of-type {\n        vertical-align: middle;\n    }\n\n    .dataframe tbody tr th {\n        vertical-align: top;\n    }\n\n    .dataframe thead th {\n        text-align: right;\n    }\n</style>\n<table border=\"1\" class=\"dataframe\">\n  <thead>\n    <tr style=\"text-align: right;\">\n      <th></th>\n      <th>Date</th>\n      <th>StartTime</th>\n      <th>DayOfWeek</th>\n      <th>GoingTo</th>\n      <th>Distance</th>\n      <th>MaxSpeed</th>\n      <th>AvgSpeed</th>\n      <th>AvgMovingSpeed</th>\n      <th>FuelEconomy</th>\n      <th>TotalTime</th>\n      <th>MovingTime</th>\n      <th>Take407All</th>\n      <th>Comments</th>\n    </tr>\n  </thead>\n  <tbody>\n    <tr>\n      <th>0</th>\n      <td>1/6/2012</td>\n      <td>16:37</td>\n      <td>Friday</td>\n      <td>Home</td>\n      <td>51.29</td>\n      <td>127.4</td>\n      <td>78.3</td>\n      <td>84.8</td>\n      <td>8.69</td>\n      <td>39.3</td>\n      <td>36.3</td>\n      <td>No</td>\n      <td>NaN</td>\n    </tr>\n    <tr>\n      <th>1</th>\n      <td>1/6/2012</td>\n      <td>08:20</td>\n      <td>Friday</td>\n      <td>GSK</td>\n      <td>51.63</td>\n      <td>130.3</td>\n      <td>81.8</td>\n      <td>88.9</td>\n      <td>8.69</td>\n      <td>37.9</td>\n      <td>34.9</td>\n      <td>No</td>\n      <td>NaN</td>\n    </tr>\n    <tr>\n      <th>2</th>\n      <td>1/4/2012</td>\n      <td>16:17</td>\n      <td>Wednesday</td>\n      <td>Home</td>\n      <td>51.27</td>\n      <td>127.4</td>\n      <td>82.0</td>\n      <td>85.8</td>\n      <td>8.69</td>\n      <td>37.5</td>\n      <td>35.9</td>\n      <td>No</td>\n      <td>NaN</td>\n    </tr>\n    <tr>\n      <th>3</th>\n      <td>1/4/2012</td>\n      <td>07:53</td>\n      <td>Wednesday</td>\n      <td>GSK</td>\n      <td>49.17</td>\n      <td>132.3</td>\n      <td>74.2</td>\n      <td>82.9</td>\n      <td>8.69</td>\n      <td>39.8</td>\n      <td>35.6</td>\n      <td>No</td>\n      <td>NaN</td>\n    </tr>\n    <tr>\n      <th>4</th>\n      <td>1/3/2012</td>\n      <td>18:57</td>\n      <td>Tuesday</td>\n      <td>Home</td>\n      <td>51.15</td>\n      <td>136.2</td>\n      <td>83.4</td>\n      <td>88.1</td>\n      <td>8.69</td>\n      <td>36.8</td>\n      <td>34.8</td>\n      <td>No</td>\n      <td>NaN</td>\n    </tr>\n    <tr>\n      <th>...</th>\n      <td>...</td>\n      <td>...</td>\n      <td>...</td>\n      <td>...</td>\n      <td>...</td>\n      <td>...</td>\n      <td>...</td>\n      <td>...</td>\n      <td>...</td>\n      <td>...</td>\n      <td>...</td>\n      <td>...</td>\n      <td>...</td>\n    </tr>\n    <tr>\n      <th>200</th>\n      <td>7/18/2011</td>\n      <td>08:09</td>\n      <td>Monday</td>\n      <td>GSK</td>\n      <td>54.52</td>\n      <td>125.6</td>\n      <td>49.9</td>\n      <td>82.4</td>\n      <td>7.89</td>\n      <td>65.5</td>\n      <td>39.7</td>\n      <td>No</td>\n      <td>NaN</td>\n    </tr>\n    <tr>\n      <th>201</th>\n      <td>7/14/2011</td>\n      <td>08:03</td>\n      <td>Thursday</td>\n      <td>GSK</td>\n      <td>50.9</td>\n      <td>123.7</td>\n      <td>76.2</td>\n      <td>95.1</td>\n      <td>7.89</td>\n      <td>40.1</td>\n      <td>32.1</td>\n      <td>Yes</td>\n      <td>NaN</td>\n    </tr>\n    <tr>\n      <th>202</th>\n      <td>7/13/2011</td>\n      <td>17:08</td>\n      <td>Wednesday</td>\n      <td>Home</td>\n      <td>51.96</td>\n      <td>132.6</td>\n      <td>57.5</td>\n      <td>76.7</td>\n      <td>8.69</td>\n      <td>54.2</td>\n      <td>40.6</td>\n      <td>Yes</td>\n      <td>NaN</td>\n    </tr>\n    <tr>\n      <th>203</th>\n      <td>7/12/2011</td>\n      <td>17:51</td>\n      <td>Tuesday</td>\n      <td>Home</td>\n      <td>53.28</td>\n      <td>125.8</td>\n      <td>61.6</td>\n      <td>87.6</td>\n      <td>8.69</td>\n      <td>51.9</td>\n      <td>36.5</td>\n      <td>Yes</td>\n      <td>NaN</td>\n    </tr>\n    <tr>\n      <th>204</th>\n      <td>7/11/2011</td>\n      <td>16:56</td>\n      <td>Monday</td>\n      <td>Home</td>\n      <td>51.73</td>\n      <td>125.0</td>\n      <td>62.8</td>\n      <td>92.5</td>\n      <td>8.69</td>\n      <td>49.5</td>\n      <td>33.6</td>\n      <td>Yes</td>\n      <td>NaN</td>\n    </tr>\n  </tbody>\n</table>\n<p>205 rows × 13 columns</p>\n</div>"
     },
     "metadata": {},
     "output_type": "display_data"
    }
   ],
   "source": [
    "obj.AnomalyDetection('Distance')"
   ]
  },
  {
   "cell_type": "code",
   "execution_count": 8,
   "id": "6eb97a503dec0e13",
   "metadata": {
    "collapsed": false,
    "ExecuteTime": {
     "end_time": "2023-10-18T05:02:50.149215200Z",
     "start_time": "2023-10-18T05:02:49.996330200Z"
    }
   },
   "outputs": [
    {
     "data": {
      "text/plain": "          Date StartTime  DayOfWeek GoingTo Distance  MaxSpeed  AvgSpeed  \\\n0     1/6/2012     16:37     Friday    Home    51.29      0.53      78.3   \n1     1/6/2012     08:20     Friday     GSK    51.63      0.63      81.8   \n2     1/4/2012     16:17  Wednesday    Home    51.27      0.53      82.0   \n3     1/4/2012     07:53  Wednesday     GSK    49.17      0.70      74.2   \n4     1/3/2012     18:57    Tuesday    Home    51.15      0.84      83.4   \n..         ...       ...        ...     ...      ...       ...       ...   \n200  7/18/2011     08:09     Monday     GSK    54.52      0.47      49.9   \n201  7/14/2011     08:03   Thursday     GSK     50.9      0.40      76.2   \n202  7/13/2011     17:08  Wednesday    Home    51.96      0.71      57.5   \n203  7/12/2011     17:51    Tuesday    Home    53.28      0.47      61.6   \n204  7/11/2011     16:56     Monday    Home    51.73      0.45      62.8   \n\n     AvgMovingSpeed FuelEconomy  TotalTime  MovingTime Take407All Comments  \n0              84.8        8.69       39.3        36.3         No      NaN  \n1              88.9        8.69       37.9        34.9         No      NaN  \n2              85.8        8.69       37.5        35.9         No      NaN  \n3              82.9        8.69       39.8        35.6         No      NaN  \n4              88.1        8.69       36.8        34.8         No      NaN  \n..              ...         ...        ...         ...        ...      ...  \n200            82.4        7.89       65.5        39.7         No      NaN  \n201            95.1        7.89       40.1        32.1        Yes      NaN  \n202            76.7        8.69       54.2        40.6        Yes      NaN  \n203            87.6        8.69       51.9        36.5        Yes      NaN  \n204            92.5        8.69       49.5        33.6        Yes      NaN  \n\n[205 rows x 13 columns]",
      "text/html": "<div>\n<style scoped>\n    .dataframe tbody tr th:only-of-type {\n        vertical-align: middle;\n    }\n\n    .dataframe tbody tr th {\n        vertical-align: top;\n    }\n\n    .dataframe thead th {\n        text-align: right;\n    }\n</style>\n<table border=\"1\" class=\"dataframe\">\n  <thead>\n    <tr style=\"text-align: right;\">\n      <th></th>\n      <th>Date</th>\n      <th>StartTime</th>\n      <th>DayOfWeek</th>\n      <th>GoingTo</th>\n      <th>Distance</th>\n      <th>MaxSpeed</th>\n      <th>AvgSpeed</th>\n      <th>AvgMovingSpeed</th>\n      <th>FuelEconomy</th>\n      <th>TotalTime</th>\n      <th>MovingTime</th>\n      <th>Take407All</th>\n      <th>Comments</th>\n    </tr>\n  </thead>\n  <tbody>\n    <tr>\n      <th>0</th>\n      <td>1/6/2012</td>\n      <td>16:37</td>\n      <td>Friday</td>\n      <td>Home</td>\n      <td>51.29</td>\n      <td>0.53</td>\n      <td>78.3</td>\n      <td>84.8</td>\n      <td>8.69</td>\n      <td>39.3</td>\n      <td>36.3</td>\n      <td>No</td>\n      <td>NaN</td>\n    </tr>\n    <tr>\n      <th>1</th>\n      <td>1/6/2012</td>\n      <td>08:20</td>\n      <td>Friday</td>\n      <td>GSK</td>\n      <td>51.63</td>\n      <td>0.63</td>\n      <td>81.8</td>\n      <td>88.9</td>\n      <td>8.69</td>\n      <td>37.9</td>\n      <td>34.9</td>\n      <td>No</td>\n      <td>NaN</td>\n    </tr>\n    <tr>\n      <th>2</th>\n      <td>1/4/2012</td>\n      <td>16:17</td>\n      <td>Wednesday</td>\n      <td>Home</td>\n      <td>51.27</td>\n      <td>0.53</td>\n      <td>82.0</td>\n      <td>85.8</td>\n      <td>8.69</td>\n      <td>37.5</td>\n      <td>35.9</td>\n      <td>No</td>\n      <td>NaN</td>\n    </tr>\n    <tr>\n      <th>3</th>\n      <td>1/4/2012</td>\n      <td>07:53</td>\n      <td>Wednesday</td>\n      <td>GSK</td>\n      <td>49.17</td>\n      <td>0.70</td>\n      <td>74.2</td>\n      <td>82.9</td>\n      <td>8.69</td>\n      <td>39.8</td>\n      <td>35.6</td>\n      <td>No</td>\n      <td>NaN</td>\n    </tr>\n    <tr>\n      <th>4</th>\n      <td>1/3/2012</td>\n      <td>18:57</td>\n      <td>Tuesday</td>\n      <td>Home</td>\n      <td>51.15</td>\n      <td>0.84</td>\n      <td>83.4</td>\n      <td>88.1</td>\n      <td>8.69</td>\n      <td>36.8</td>\n      <td>34.8</td>\n      <td>No</td>\n      <td>NaN</td>\n    </tr>\n    <tr>\n      <th>...</th>\n      <td>...</td>\n      <td>...</td>\n      <td>...</td>\n      <td>...</td>\n      <td>...</td>\n      <td>...</td>\n      <td>...</td>\n      <td>...</td>\n      <td>...</td>\n      <td>...</td>\n      <td>...</td>\n      <td>...</td>\n      <td>...</td>\n    </tr>\n    <tr>\n      <th>200</th>\n      <td>7/18/2011</td>\n      <td>08:09</td>\n      <td>Monday</td>\n      <td>GSK</td>\n      <td>54.52</td>\n      <td>0.47</td>\n      <td>49.9</td>\n      <td>82.4</td>\n      <td>7.89</td>\n      <td>65.5</td>\n      <td>39.7</td>\n      <td>No</td>\n      <td>NaN</td>\n    </tr>\n    <tr>\n      <th>201</th>\n      <td>7/14/2011</td>\n      <td>08:03</td>\n      <td>Thursday</td>\n      <td>GSK</td>\n      <td>50.9</td>\n      <td>0.40</td>\n      <td>76.2</td>\n      <td>95.1</td>\n      <td>7.89</td>\n      <td>40.1</td>\n      <td>32.1</td>\n      <td>Yes</td>\n      <td>NaN</td>\n    </tr>\n    <tr>\n      <th>202</th>\n      <td>7/13/2011</td>\n      <td>17:08</td>\n      <td>Wednesday</td>\n      <td>Home</td>\n      <td>51.96</td>\n      <td>0.71</td>\n      <td>57.5</td>\n      <td>76.7</td>\n      <td>8.69</td>\n      <td>54.2</td>\n      <td>40.6</td>\n      <td>Yes</td>\n      <td>NaN</td>\n    </tr>\n    <tr>\n      <th>203</th>\n      <td>7/12/2011</td>\n      <td>17:51</td>\n      <td>Tuesday</td>\n      <td>Home</td>\n      <td>53.28</td>\n      <td>0.47</td>\n      <td>61.6</td>\n      <td>87.6</td>\n      <td>8.69</td>\n      <td>51.9</td>\n      <td>36.5</td>\n      <td>Yes</td>\n      <td>NaN</td>\n    </tr>\n    <tr>\n      <th>204</th>\n      <td>7/11/2011</td>\n      <td>16:56</td>\n      <td>Monday</td>\n      <td>Home</td>\n      <td>51.73</td>\n      <td>0.45</td>\n      <td>62.8</td>\n      <td>92.5</td>\n      <td>8.69</td>\n      <td>49.5</td>\n      <td>33.6</td>\n      <td>Yes</td>\n      <td>NaN</td>\n    </tr>\n  </tbody>\n</table>\n<p>205 rows × 13 columns</p>\n</div>"
     },
     "metadata": {},
     "output_type": "display_data"
    }
   ],
   "source": [
    "obj.Normalization('MaxSpeed')"
   ]
  },
  {
   "cell_type": "code",
   "execution_count": 9,
   "id": "6cbab5c6eb06c7fc",
   "metadata": {
    "collapsed": false,
    "ExecuteTime": {
     "end_time": "2023-10-18T05:02:50.286849700Z",
     "start_time": "2023-10-18T05:02:50.075519700Z"
    }
   },
   "outputs": [
    {
     "data": {
      "text/plain": "          Date StartTime  DayOfWeek GoingTo Distance  MaxSpeed  AvgSpeed  \\\n0     1/6/2012     16:37     Friday    Home    51.29      0.53      78.3   \n1     1/6/2012     08:20     Friday     GSK    51.63      0.63      81.8   \n2     1/4/2012     16:17  Wednesday    Home    51.27      0.53      82.0   \n3     1/4/2012     07:53  Wednesday     GSK    49.17      0.70      74.2   \n4     1/3/2012     18:57    Tuesday    Home    51.15      0.84      83.4   \n..         ...       ...        ...     ...      ...       ...       ...   \n200  7/18/2011     08:09     Monday     GSK    54.52      0.47      49.9   \n201  7/14/2011     08:03   Thursday     GSK     50.9      0.40      76.2   \n202  7/13/2011     17:08  Wednesday    Home    51.96      0.71      57.5   \n203  7/12/2011     17:51    Tuesday    Home    53.28      0.47      61.6   \n204  7/11/2011     16:56     Monday    Home    51.73      0.45      62.8   \n\n     AvgMovingSpeed FuelEconomy  TotalTime  MovingTime Take407All Comments  \\\n0              84.8        8.69       39.3        36.3         No      NaN   \n1              88.9        8.69       37.9        34.9         No      NaN   \n2              85.8        8.69       37.5        35.9         No      NaN   \n3              82.9        8.69       39.8        35.6         No      NaN   \n4              88.1        8.69       36.8        34.8         No      NaN   \n..              ...         ...        ...         ...        ...      ...   \n200            82.4        7.89       65.5        39.7         No      NaN   \n201            95.1        7.89       40.1        32.1        Yes      NaN   \n202            76.7        8.69       54.2        40.6        Yes      NaN   \n203            87.6        8.69       51.9        36.5        Yes      NaN   \n204            92.5        8.69       49.5        33.6        Yes      NaN   \n\n     Yes  No  \n0      0   1  \n1      0   1  \n2      0   1  \n3      0   1  \n4      0   1  \n..   ...  ..  \n200    0   1  \n201    1   0  \n202    1   0  \n203    1   0  \n204    1   0  \n\n[205 rows x 15 columns]",
      "text/html": "<div>\n<style scoped>\n    .dataframe tbody tr th:only-of-type {\n        vertical-align: middle;\n    }\n\n    .dataframe tbody tr th {\n        vertical-align: top;\n    }\n\n    .dataframe thead th {\n        text-align: right;\n    }\n</style>\n<table border=\"1\" class=\"dataframe\">\n  <thead>\n    <tr style=\"text-align: right;\">\n      <th></th>\n      <th>Date</th>\n      <th>StartTime</th>\n      <th>DayOfWeek</th>\n      <th>GoingTo</th>\n      <th>Distance</th>\n      <th>MaxSpeed</th>\n      <th>AvgSpeed</th>\n      <th>AvgMovingSpeed</th>\n      <th>FuelEconomy</th>\n      <th>TotalTime</th>\n      <th>MovingTime</th>\n      <th>Take407All</th>\n      <th>Comments</th>\n      <th>Yes</th>\n      <th>No</th>\n    </tr>\n  </thead>\n  <tbody>\n    <tr>\n      <th>0</th>\n      <td>1/6/2012</td>\n      <td>16:37</td>\n      <td>Friday</td>\n      <td>Home</td>\n      <td>51.29</td>\n      <td>0.53</td>\n      <td>78.3</td>\n      <td>84.8</td>\n      <td>8.69</td>\n      <td>39.3</td>\n      <td>36.3</td>\n      <td>No</td>\n      <td>NaN</td>\n      <td>0</td>\n      <td>1</td>\n    </tr>\n    <tr>\n      <th>1</th>\n      <td>1/6/2012</td>\n      <td>08:20</td>\n      <td>Friday</td>\n      <td>GSK</td>\n      <td>51.63</td>\n      <td>0.63</td>\n      <td>81.8</td>\n      <td>88.9</td>\n      <td>8.69</td>\n      <td>37.9</td>\n      <td>34.9</td>\n      <td>No</td>\n      <td>NaN</td>\n      <td>0</td>\n      <td>1</td>\n    </tr>\n    <tr>\n      <th>2</th>\n      <td>1/4/2012</td>\n      <td>16:17</td>\n      <td>Wednesday</td>\n      <td>Home</td>\n      <td>51.27</td>\n      <td>0.53</td>\n      <td>82.0</td>\n      <td>85.8</td>\n      <td>8.69</td>\n      <td>37.5</td>\n      <td>35.9</td>\n      <td>No</td>\n      <td>NaN</td>\n      <td>0</td>\n      <td>1</td>\n    </tr>\n    <tr>\n      <th>3</th>\n      <td>1/4/2012</td>\n      <td>07:53</td>\n      <td>Wednesday</td>\n      <td>GSK</td>\n      <td>49.17</td>\n      <td>0.70</td>\n      <td>74.2</td>\n      <td>82.9</td>\n      <td>8.69</td>\n      <td>39.8</td>\n      <td>35.6</td>\n      <td>No</td>\n      <td>NaN</td>\n      <td>0</td>\n      <td>1</td>\n    </tr>\n    <tr>\n      <th>4</th>\n      <td>1/3/2012</td>\n      <td>18:57</td>\n      <td>Tuesday</td>\n      <td>Home</td>\n      <td>51.15</td>\n      <td>0.84</td>\n      <td>83.4</td>\n      <td>88.1</td>\n      <td>8.69</td>\n      <td>36.8</td>\n      <td>34.8</td>\n      <td>No</td>\n      <td>NaN</td>\n      <td>0</td>\n      <td>1</td>\n    </tr>\n    <tr>\n      <th>...</th>\n      <td>...</td>\n      <td>...</td>\n      <td>...</td>\n      <td>...</td>\n      <td>...</td>\n      <td>...</td>\n      <td>...</td>\n      <td>...</td>\n      <td>...</td>\n      <td>...</td>\n      <td>...</td>\n      <td>...</td>\n      <td>...</td>\n      <td>...</td>\n      <td>...</td>\n    </tr>\n    <tr>\n      <th>200</th>\n      <td>7/18/2011</td>\n      <td>08:09</td>\n      <td>Monday</td>\n      <td>GSK</td>\n      <td>54.52</td>\n      <td>0.47</td>\n      <td>49.9</td>\n      <td>82.4</td>\n      <td>7.89</td>\n      <td>65.5</td>\n      <td>39.7</td>\n      <td>No</td>\n      <td>NaN</td>\n      <td>0</td>\n      <td>1</td>\n    </tr>\n    <tr>\n      <th>201</th>\n      <td>7/14/2011</td>\n      <td>08:03</td>\n      <td>Thursday</td>\n      <td>GSK</td>\n      <td>50.9</td>\n      <td>0.40</td>\n      <td>76.2</td>\n      <td>95.1</td>\n      <td>7.89</td>\n      <td>40.1</td>\n      <td>32.1</td>\n      <td>Yes</td>\n      <td>NaN</td>\n      <td>1</td>\n      <td>0</td>\n    </tr>\n    <tr>\n      <th>202</th>\n      <td>7/13/2011</td>\n      <td>17:08</td>\n      <td>Wednesday</td>\n      <td>Home</td>\n      <td>51.96</td>\n      <td>0.71</td>\n      <td>57.5</td>\n      <td>76.7</td>\n      <td>8.69</td>\n      <td>54.2</td>\n      <td>40.6</td>\n      <td>Yes</td>\n      <td>NaN</td>\n      <td>1</td>\n      <td>0</td>\n    </tr>\n    <tr>\n      <th>203</th>\n      <td>7/12/2011</td>\n      <td>17:51</td>\n      <td>Tuesday</td>\n      <td>Home</td>\n      <td>53.28</td>\n      <td>0.47</td>\n      <td>61.6</td>\n      <td>87.6</td>\n      <td>8.69</td>\n      <td>51.9</td>\n      <td>36.5</td>\n      <td>Yes</td>\n      <td>NaN</td>\n      <td>1</td>\n      <td>0</td>\n    </tr>\n    <tr>\n      <th>204</th>\n      <td>7/11/2011</td>\n      <td>16:56</td>\n      <td>Monday</td>\n      <td>Home</td>\n      <td>51.73</td>\n      <td>0.45</td>\n      <td>62.8</td>\n      <td>92.5</td>\n      <td>8.69</td>\n      <td>49.5</td>\n      <td>33.6</td>\n      <td>Yes</td>\n      <td>NaN</td>\n      <td>1</td>\n      <td>0</td>\n    </tr>\n  </tbody>\n</table>\n<p>205 rows × 15 columns</p>\n</div>"
     },
     "metadata": {},
     "output_type": "display_data"
    }
   ],
   "source": [
    "obj.Encoding('Take407All')"
   ]
  },
  {
   "cell_type": "code",
   "execution_count": 10,
   "id": "4b01be15711ac140",
   "metadata": {
    "collapsed": false,
    "ExecuteTime": {
     "end_time": "2023-10-18T05:02:50.290852600Z",
     "start_time": "2023-10-18T05:02:50.108601800Z"
    }
   },
   "outputs": [
    {
     "data": {
      "text/plain": "          Date StartTime  DayOfWeek GoingTo Distance  MaxSpeed  AvgSpeed  \\\n0     1/6/2012     16:37     Friday    Home    51.29      0.53      78.3   \n1     1/6/2012     08:20     Friday     GSK    51.63      0.63      81.8   \n2     1/4/2012     16:17  Wednesday    Home    51.27      0.53      82.0   \n3     1/4/2012     07:53  Wednesday     GSK    49.17      0.70      74.2   \n4     1/3/2012     18:57    Tuesday    Home    51.15      0.84      83.4   \n..         ...       ...        ...     ...      ...       ...       ...   \n200  7/18/2011     08:09     Monday     GSK    54.52      0.47      49.9   \n201  7/14/2011     08:03   Thursday     GSK     50.9      0.40      76.2   \n202  7/13/2011     17:08  Wednesday    Home    51.96      0.71      57.5   \n203  7/12/2011     17:51    Tuesday    Home    53.28      0.47      61.6   \n204  7/11/2011     16:56     Monday    Home    51.73      0.45      62.8   \n\n     AvgMovingSpeed FuelEconomy  TotalTime  MovingTime Take407All Comments  \\\n0              84.8        8.69       39.3        36.3         No      NaN   \n1              88.9        8.69       37.9        34.9         No      NaN   \n2              85.8        8.69       37.5        35.9         No      NaN   \n3              82.9        8.69       39.8        35.6         No      NaN   \n4              88.1        8.69       36.8        34.8         No      NaN   \n..              ...         ...        ...         ...        ...      ...   \n200            82.4        7.89       65.5        39.7         No      NaN   \n201            95.1        7.89       40.1        32.1        Yes      NaN   \n202            76.7        8.69       54.2        40.6        Yes      NaN   \n203            87.6        8.69       51.9        36.5        Yes      NaN   \n204            92.5        8.69       49.5        33.6        Yes      NaN   \n\n     Yes  No  TotalTime-zScore  \n0      0   1             -0.38  \n1      0   1             -0.58  \n2      0   1             -0.64  \n3      0   1             -0.31  \n4      0   1             -0.75  \n..   ...  ..               ...  \n200    0   1              3.44  \n201    1   0             -0.26  \n202    1   0              1.80  \n203    1   0              1.46  \n204    1   0              1.11  \n\n[205 rows x 16 columns]",
      "text/html": "<div>\n<style scoped>\n    .dataframe tbody tr th:only-of-type {\n        vertical-align: middle;\n    }\n\n    .dataframe tbody tr th {\n        vertical-align: top;\n    }\n\n    .dataframe thead th {\n        text-align: right;\n    }\n</style>\n<table border=\"1\" class=\"dataframe\">\n  <thead>\n    <tr style=\"text-align: right;\">\n      <th></th>\n      <th>Date</th>\n      <th>StartTime</th>\n      <th>DayOfWeek</th>\n      <th>GoingTo</th>\n      <th>Distance</th>\n      <th>MaxSpeed</th>\n      <th>AvgSpeed</th>\n      <th>AvgMovingSpeed</th>\n      <th>FuelEconomy</th>\n      <th>TotalTime</th>\n      <th>MovingTime</th>\n      <th>Take407All</th>\n      <th>Comments</th>\n      <th>Yes</th>\n      <th>No</th>\n      <th>TotalTime-zScore</th>\n    </tr>\n  </thead>\n  <tbody>\n    <tr>\n      <th>0</th>\n      <td>1/6/2012</td>\n      <td>16:37</td>\n      <td>Friday</td>\n      <td>Home</td>\n      <td>51.29</td>\n      <td>0.53</td>\n      <td>78.3</td>\n      <td>84.8</td>\n      <td>8.69</td>\n      <td>39.3</td>\n      <td>36.3</td>\n      <td>No</td>\n      <td>NaN</td>\n      <td>0</td>\n      <td>1</td>\n      <td>-0.38</td>\n    </tr>\n    <tr>\n      <th>1</th>\n      <td>1/6/2012</td>\n      <td>08:20</td>\n      <td>Friday</td>\n      <td>GSK</td>\n      <td>51.63</td>\n      <td>0.63</td>\n      <td>81.8</td>\n      <td>88.9</td>\n      <td>8.69</td>\n      <td>37.9</td>\n      <td>34.9</td>\n      <td>No</td>\n      <td>NaN</td>\n      <td>0</td>\n      <td>1</td>\n      <td>-0.58</td>\n    </tr>\n    <tr>\n      <th>2</th>\n      <td>1/4/2012</td>\n      <td>16:17</td>\n      <td>Wednesday</td>\n      <td>Home</td>\n      <td>51.27</td>\n      <td>0.53</td>\n      <td>82.0</td>\n      <td>85.8</td>\n      <td>8.69</td>\n      <td>37.5</td>\n      <td>35.9</td>\n      <td>No</td>\n      <td>NaN</td>\n      <td>0</td>\n      <td>1</td>\n      <td>-0.64</td>\n    </tr>\n    <tr>\n      <th>3</th>\n      <td>1/4/2012</td>\n      <td>07:53</td>\n      <td>Wednesday</td>\n      <td>GSK</td>\n      <td>49.17</td>\n      <td>0.70</td>\n      <td>74.2</td>\n      <td>82.9</td>\n      <td>8.69</td>\n      <td>39.8</td>\n      <td>35.6</td>\n      <td>No</td>\n      <td>NaN</td>\n      <td>0</td>\n      <td>1</td>\n      <td>-0.31</td>\n    </tr>\n    <tr>\n      <th>4</th>\n      <td>1/3/2012</td>\n      <td>18:57</td>\n      <td>Tuesday</td>\n      <td>Home</td>\n      <td>51.15</td>\n      <td>0.84</td>\n      <td>83.4</td>\n      <td>88.1</td>\n      <td>8.69</td>\n      <td>36.8</td>\n      <td>34.8</td>\n      <td>No</td>\n      <td>NaN</td>\n      <td>0</td>\n      <td>1</td>\n      <td>-0.75</td>\n    </tr>\n    <tr>\n      <th>...</th>\n      <td>...</td>\n      <td>...</td>\n      <td>...</td>\n      <td>...</td>\n      <td>...</td>\n      <td>...</td>\n      <td>...</td>\n      <td>...</td>\n      <td>...</td>\n      <td>...</td>\n      <td>...</td>\n      <td>...</td>\n      <td>...</td>\n      <td>...</td>\n      <td>...</td>\n      <td>...</td>\n    </tr>\n    <tr>\n      <th>200</th>\n      <td>7/18/2011</td>\n      <td>08:09</td>\n      <td>Monday</td>\n      <td>GSK</td>\n      <td>54.52</td>\n      <td>0.47</td>\n      <td>49.9</td>\n      <td>82.4</td>\n      <td>7.89</td>\n      <td>65.5</td>\n      <td>39.7</td>\n      <td>No</td>\n      <td>NaN</td>\n      <td>0</td>\n      <td>1</td>\n      <td>3.44</td>\n    </tr>\n    <tr>\n      <th>201</th>\n      <td>7/14/2011</td>\n      <td>08:03</td>\n      <td>Thursday</td>\n      <td>GSK</td>\n      <td>50.9</td>\n      <td>0.40</td>\n      <td>76.2</td>\n      <td>95.1</td>\n      <td>7.89</td>\n      <td>40.1</td>\n      <td>32.1</td>\n      <td>Yes</td>\n      <td>NaN</td>\n      <td>1</td>\n      <td>0</td>\n      <td>-0.26</td>\n    </tr>\n    <tr>\n      <th>202</th>\n      <td>7/13/2011</td>\n      <td>17:08</td>\n      <td>Wednesday</td>\n      <td>Home</td>\n      <td>51.96</td>\n      <td>0.71</td>\n      <td>57.5</td>\n      <td>76.7</td>\n      <td>8.69</td>\n      <td>54.2</td>\n      <td>40.6</td>\n      <td>Yes</td>\n      <td>NaN</td>\n      <td>1</td>\n      <td>0</td>\n      <td>1.80</td>\n    </tr>\n    <tr>\n      <th>203</th>\n      <td>7/12/2011</td>\n      <td>17:51</td>\n      <td>Tuesday</td>\n      <td>Home</td>\n      <td>53.28</td>\n      <td>0.47</td>\n      <td>61.6</td>\n      <td>87.6</td>\n      <td>8.69</td>\n      <td>51.9</td>\n      <td>36.5</td>\n      <td>Yes</td>\n      <td>NaN</td>\n      <td>1</td>\n      <td>0</td>\n      <td>1.46</td>\n    </tr>\n    <tr>\n      <th>204</th>\n      <td>7/11/2011</td>\n      <td>16:56</td>\n      <td>Monday</td>\n      <td>Home</td>\n      <td>51.73</td>\n      <td>0.45</td>\n      <td>62.8</td>\n      <td>92.5</td>\n      <td>8.69</td>\n      <td>49.5</td>\n      <td>33.6</td>\n      <td>Yes</td>\n      <td>NaN</td>\n      <td>1</td>\n      <td>0</td>\n      <td>1.11</td>\n    </tr>\n  </tbody>\n</table>\n<p>205 rows × 16 columns</p>\n</div>"
     },
     "metadata": {},
     "output_type": "display_data"
    }
   ],
   "source": [
    "obj.Standardization('TotalTime')"
   ]
  },
  {
   "cell_type": "code",
   "execution_count": 11,
   "outputs": [],
   "source": [],
   "metadata": {
    "collapsed": false,
    "ExecuteTime": {
     "end_time": "2023-10-18T05:02:50.303356500Z",
     "start_time": "2023-10-18T05:02:50.138823100Z"
    }
   },
   "id": "f2fb58bd08d1cba3"
  },
  {
   "cell_type": "markdown",
   "id": "7d6c703962ff8be2",
   "metadata": {
    "collapsed": false
   },
   "source": []
  }
 ],
 "metadata": {
  "kernelspec": {
   "display_name": "Python 3 (ipykernel)",
   "language": "python",
   "name": "python3"
  },
  "language_info": {
   "codemirror_mode": {
    "name": "ipython",
    "version": 3
   },
   "file_extension": ".py",
   "mimetype": "text/x-python",
   "name": "python",
   "nbconvert_exporter": "python",
   "pygments_lexer": "ipython3",
   "version": "3.11.5"
  }
 },
 "nbformat": 4,
 "nbformat_minor": 5
}
