{
 "cells": [
  {
   "cell_type": "code",
   "execution_count": 5,
   "id": "initial_id",
   "metadata": {
    "ExecuteTime": {
     "end_time": "2023-09-02T09:11:29.568832200Z",
     "start_time": "2023-09-02T09:11:29.295928900Z"
    },
    "collapsed": true,
    "jupyter": {
     "outputs_hidden": true
    }
   },
   "outputs": [],
   "source": [
    "import pandas as pd\n",
    "import sys\n",
    "import numpy as np\n",
    "import random\n",
    "pd.options.mode.chained_assignment = None \n",
    "np.set_printoptions(threshold=sys.maxsize)"
   ]
  },
  {
   "cell_type": "markdown",
   "id": "e3126a7b7458553c",
   "metadata": {
    "collapsed": false,
    "jupyter": {
     "outputs_hidden": false
    }
   },
   "source": [
    "Linear regression class"
   ]
  },
  {
   "cell_type": "code",
   "execution_count": 1,
   "id": "db76a6c9db99bccf",
   "metadata": {
    "ExecuteTime": {
     "end_time": "2023-09-02T17:32:06.440894200Z",
     "start_time": "2023-09-02T17:32:06.436337600Z"
    },
    "collapsed": false,
    "jupyter": {
     "outputs_hidden": false
    }
   },
   "outputs": [],
   "source": [
    "class LinearRegression:\n",
    "    \n",
    "    def __init__(self,path,y,x):\n",
    "        self.file=pd.read_csv(path)\n",
    "        self.m=len(self.file)\n",
    "        self.y=y\n",
    "        self.x=x\n",
    "    \n",
    "    def hOfTheta(self,b0,b1,x):\n",
    "        return b0+(b1*x)\n",
    "    #Statistical Method of simple linear regression\n",
    "    def statistical(self):\n",
    "        xMatrix=self.file[self.x].to_numpy()\n",
    "        yMatrix=self.file[self.y].to_numpy()\n",
    "        xAVG=np.average(xMatrix)\n",
    "        yAVG=np.average(yMatrix)\n",
    "        xi_xAVG=xMatrix-xAVG\n",
    "        yi_yAVG=yMatrix-yAVG\n",
    "        numeratorMatrix=xi_xAVG*yi_yAVG\n",
    "        denominatorMatrix=xi_xAVG*xi_xAVG\n",
    "        B1=round(numeratorMatrix.sum()/denominatorMatrix.sum(),2)\n",
    "        B0=round(yAVG-(B1*xAVG),2)\n",
    "        print(\"Y={} + {}X\".format(B0,B1))\n",
    "    \n",
    "    #gradient descent for linear regression    \n",
    "    def machineLearning(self,epochs,alpha):\n",
    "        b0=random.uniform(0,1)\n",
    "        b1=random.uniform(0,1)\n",
    "        while epochs>0:\n",
    "            xMatrix=self.file[self.x].to_numpy()\n",
    "            yMatrix=self.file[self.y].to_numpy()\n",
    "            hTHeta=b0+xMatrix*b1\n",
    "            errorMatrix=hTHeta-yMatrix\n",
    "            sumMatrix=errorMatrix*xMatrix\n",
    "            b0=b0-((alpha/self.m)*sumMatrix.sum())\n",
    "            b1=b1-((alpha/self.m)*sumMatrix.sum())\n",
    "            epochs-=1\n",
    "        print(\"Y={} + {}X\".format(round(b0,3),round(b1,3)))"
   ]
  },
  {
   "cell_type": "markdown",
   "id": "5259d8aec35cb3eb",
   "metadata": {
    "collapsed": false,
    "jupyter": {
     "outputs_hidden": false
    }
   },
   "source": [
    "Object creation"
   ]
  },
  {
   "cell_type": "code",
   "execution_count": 7,
   "id": "aba290daa57fbcad",
   "metadata": {
    "ExecuteTime": {
     "end_time": "2023-09-02T09:11:33.202544300Z",
     "start_time": "2023-09-02T09:11:33.192776100Z"
    },
    "collapsed": false,
    "jupyter": {
     "outputs_hidden": false
    }
   },
   "outputs": [],
   "source": [
    "obj=LinearRegression(\"./income.data.csv\",\"happiness\",\"income\")"
   ]
  },
  {
   "cell_type": "code",
   "execution_count": 9,
   "id": "77f20fc7d79095a3",
   "metadata": {
    "ExecuteTime": {
     "end_time": "2023-09-02T09:11:38.940502200Z",
     "start_time": "2023-09-02T09:11:38.929987400Z"
    },
    "collapsed": false,
    "jupyter": {
     "outputs_hidden": false
    }
   },
   "outputs": [
    {
     "name": "stdout",
     "output_type": "stream",
     "text": [
      "Y=0.22 + 0.71X\n"
     ]
    }
   ],
   "source": [
    "obj.statistical()"
   ]
  },
  {
   "cell_type": "code",
   "execution_count": 8,
   "id": "ac9599a0df5ddf22",
   "metadata": {
    "ExecuteTime": {
     "end_time": "2023-09-02T09:11:34.967937900Z",
     "start_time": "2023-09-02T09:11:34.959040300Z"
    },
    "collapsed": false,
    "jupyter": {
     "outputs_hidden": false
    }
   },
   "outputs": [
    {
     "name": "stdout",
     "output_type": "stream",
     "text": [
      "Y=0.73 + 0.612X\n"
     ]
    }
   ],
   "source": [
    "obj.machineLearning(25,0.01)"
   ]
  }
 ],
 "metadata": {
  "kernelspec": {
   "display_name": "Python 3 (ipykernel)",
   "language": "python",
   "name": "python3"
  },
  "language_info": {
   "codemirror_mode": {
    "name": "ipython",
    "version": 3
   },
   "file_extension": ".py",
   "mimetype": "text/x-python",
   "name": "python",
   "nbconvert_exporter": "python",
   "pygments_lexer": "ipython3",
   "version": "3.11.5"
  }
 },
 "nbformat": 4,
 "nbformat_minor": 5
}
