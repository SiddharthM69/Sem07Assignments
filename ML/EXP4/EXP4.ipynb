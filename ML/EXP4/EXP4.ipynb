{
 "cells": [
  {
   "cell_type": "code",
   "execution_count": 110,
   "id": "initial_id",
   "metadata": {
    "collapsed": true,
    "ExecuteTime": {
     "end_time": "2023-09-02T17:25:25.788612Z",
     "start_time": "2023-09-02T17:25:25.780120800Z"
    }
   },
   "outputs": [],
   "source": [
    "import pandas as pd\n",
    "import sys\n",
    "import numpy as np\n",
    "import random\n",
    "pd.options.mode.chained_assignment = None \n",
    "np.set_printoptions(threshold=sys.maxsize)"
   ]
  },
  {
   "cell_type": "markdown",
   "source": [
    "Utilities class"
   ],
   "metadata": {
    "collapsed": false
   },
   "id": "2eb8b9d7d300480b"
  },
  {
   "cell_type": "code",
   "execution_count": 111,
   "outputs": [],
   "source": [
    "class Utils:\n",
    "    def sigmoid(self,x,b):\n",
    "        sig= 1/(1 + np.exp(-(x*b)))\n",
    "        return sig"
   ],
   "metadata": {
    "collapsed": false,
    "ExecuteTime": {
     "end_time": "2023-09-02T17:25:26.737567300Z",
     "start_time": "2023-09-02T17:25:26.730068800Z"
    }
   },
   "id": "c362e6b65eae628d"
  },
  {
   "cell_type": "markdown",
   "source": [
    "Logistic Regression Class"
   ],
   "metadata": {
    "collapsed": false
   },
   "id": "26d80d73e55d8b55"
  },
  {
   "cell_type": "code",
   "execution_count": 125,
   "outputs": [],
   "source": [
    "class LogisticRegression:\n",
    "    def __init__(self,path,x,y):\n",
    "        self.file=pd.read_csv(path)\n",
    "        self.x=x\n",
    "        self.y=y\n",
    "        self.m=len(self.file)\n",
    "        self.utils=Utils()\n",
    "    \n",
    "    \n",
    "    def gradientDescent(self,epoch,alpha):\n",
    "        xMatrix=self.file[self.x]\n",
    "        yMatrix=self.file[self.y]\n",
    "        b=random.random()\n",
    "        while epoch>0:\n",
    "            ansMatrix=self.utils.sigmoid(xMatrix,b)\n",
    "            calcMat=np.where(ansMatrix==0,(1-yMatrix)*np.log(1-ansMatrix),yMatrix*np.log(ansMatrix))\n",
    "            summation=(calcMat.sum())\n",
    "            b=b-alpha*summation\n",
    "            epoch-=1\n",
    "        print(round(b,2))\n",
    "        \n",
    "        \n",
    "        \n",
    "    "
   ],
   "metadata": {
    "collapsed": false,
    "ExecuteTime": {
     "end_time": "2023-09-02T17:30:39.629981200Z",
     "start_time": "2023-09-02T17:30:39.623976300Z"
    }
   },
   "id": "1e577efec8b71d00"
  },
  {
   "cell_type": "code",
   "execution_count": 123,
   "outputs": [],
   "source": [
    "obj=LogisticRegression(\"./dataset.csv\",\"EstimatedSalary\",\"Purchased\")"
   ],
   "metadata": {
    "collapsed": false,
    "ExecuteTime": {
     "end_time": "2023-09-02T17:30:34.034587900Z",
     "start_time": "2023-09-02T17:30:34.026070200Z"
    }
   },
   "id": "2d47da86bce8a3b9"
  },
  {
   "cell_type": "code",
   "execution_count": 132,
   "outputs": [
    {
     "name": "stdout",
     "output_type": "stream",
     "text": [
      "0.97\n"
     ]
    }
   ],
   "source": [
    "obj.gradientDescent(5,0.12)"
   ],
   "metadata": {
    "collapsed": false,
    "ExecuteTime": {
     "end_time": "2023-09-02T17:31:02.661681600Z",
     "start_time": "2023-09-02T17:31:02.651480600Z"
    }
   },
   "id": "bd988ff8a89fc132"
  }
 ],
 "metadata": {
  "kernelspec": {
   "display_name": "Python 3",
   "language": "python",
   "name": "python3"
  },
  "language_info": {
   "codemirror_mode": {
    "name": "ipython",
    "version": 2
   },
   "file_extension": ".py",
   "mimetype": "text/x-python",
   "name": "python",
   "nbconvert_exporter": "python",
   "pygments_lexer": "ipython2",
   "version": "2.7.6"
  }
 },
 "nbformat": 4,
 "nbformat_minor": 5
}
