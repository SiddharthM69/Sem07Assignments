{
 "cells": [
  {
   "cell_type": "code",
   "execution_count": 26,
   "id": "initial_id",
   "metadata": {
    "ExecuteTime": {
     "end_time": "2023-09-10T17:06:47.149620300Z",
     "start_time": "2023-09-10T17:06:46.792791800Z"
    },
    "collapsed": true,
    "jupyter": {
     "outputs_hidden": true
    }
   },
   "outputs": [],
   "source": [
    "import pandas as pd\n",
    "import sys\n",
    "import numpy as np\n",
    "import random\n",
    "pd.options.mode.chained_assignment = None \n",
    "np.set_printoptions(threshold=sys.maxsize)"
   ]
  },
  {
   "cell_type": "markdown",
   "id": "2eb8b9d7d300480b",
   "metadata": {
    "collapsed": false
   },
   "source": [
    "Utilities class"
   ]
  },
  {
   "cell_type": "code",
   "execution_count": 27,
   "id": "c362e6b65eae628d",
   "metadata": {
    "ExecuteTime": {
     "end_time": "2023-09-10T17:06:48.479694300Z",
     "start_time": "2023-09-10T17:06:48.463614Z"
    },
    "collapsed": false
   },
   "outputs": [],
   "source": [
    "class Utils:\n",
    "    def sigmoid(self,x,b):\n",
    "        sig= 1/(1 + np.exp(-(x*b)))\n",
    "        return sig"
   ]
  },
  {
   "cell_type": "markdown",
   "id": "26d80d73e55d8b55",
   "metadata": {
    "collapsed": false
   },
   "source": [
    "Logistic Regression Class"
   ]
  },
  {
   "cell_type": "code",
   "execution_count": 28,
   "id": "1e577efec8b71d00",
   "metadata": {
    "ExecuteTime": {
     "end_time": "2023-09-10T17:07:50.911516400Z",
     "start_time": "2023-09-10T17:07:50.907304800Z"
    },
    "collapsed": false
   },
   "outputs": [],
   "source": [
    "class LogisticRegression:\n",
    "    def __init__(self,path,x,y):\n",
    "        self.file=pd.read_csv(path)\n",
    "        self.x=x\n",
    "        self.y=y\n",
    "        self.m=len(self.file)\n",
    "        self.utils=Utils()\n",
    "    \n",
    "    \n",
    "    def gradientDescent(self,epoch,alpha):\n",
    "        xMatrix=self.file[self.x]\n",
    "        yMatrix=self.file[self.y]\n",
    "        b=0\n",
    "        while epoch>0:\n",
    "            hTHeta=self.utils.sigmoid(xMatrix,b)\n",
    "            errorMatrix=hTHeta-yMatrix\n",
    "            sumMatrix=errorMatrix*xMatrix\n",
    "            b=b-((alpha/self.m)*sumMatrix.sum())\n",
    "            epoch-=1\n",
    "        print(\"The theta is: \",round(b,2))\n",
    "        \n",
    "        \n",
    "        \n",
    "    "
   ]
  },
  {
   "cell_type": "code",
   "execution_count": 29,
   "id": "2d47da86bce8a3b9",
   "metadata": {
    "ExecuteTime": {
     "end_time": "2023-09-10T17:07:53.140087900Z",
     "start_time": "2023-09-10T17:07:53.125993400Z"
    },
    "collapsed": false
   },
   "outputs": [],
   "source": [
    "obj=LogisticRegression(\"./dataset.csv\",\"EstimatedSalary\",\"Purchased\")"
   ]
  },
  {
   "cell_type": "code",
   "execution_count": 30,
   "id": "bd988ff8a89fc132",
   "metadata": {
    "ExecuteTime": {
     "end_time": "2023-09-10T17:08:10.586549800Z",
     "start_time": "2023-09-10T17:07:55.043708300Z"
    },
    "collapsed": false
   },
   "outputs": [
    {
     "name": "stdout",
     "output_type": "stream",
     "text": [
      "The theta is:  -2.01\n"
     ]
    },
    {
     "name": "stderr",
     "output_type": "stream",
     "text": [
      "c:\\DATA\\School Work\\Assignments\\Sem07Assignments\\venv\\Lib\\site-packages\\pandas\\core\\arraylike.py:396: RuntimeWarning: overflow encountered in exp\n",
      "  result = getattr(ufunc, method)(*inputs, **kwargs)\n"
     ]
    }
   ],
   "source": [
    "obj.gradientDescent(5,0.0001)"
   ]
  }
 ],
 "metadata": {
  "kernelspec": {
   "display_name": "Python 3 (ipykernel)",
   "language": "python",
   "name": "python3"
  },
  "language_info": {
   "codemirror_mode": {
    "name": "ipython",
    "version": 3
   },
   "file_extension": ".py",
   "mimetype": "text/x-python",
   "name": "python",
   "nbconvert_exporter": "python",
   "pygments_lexer": "ipython3",
   "version": "3.11.5"
  }
 },
 "nbformat": 4,
 "nbformat_minor": 5
}
