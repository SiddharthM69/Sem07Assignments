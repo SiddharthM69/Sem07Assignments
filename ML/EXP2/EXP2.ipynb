{
 "cells": [
  {
   "cell_type": "code",
   "execution_count": 42,
   "id": "initial_id",
   "metadata": {
    "collapsed": true,
    "ExecuteTime": {
     "end_time": "2023-09-02T08:58:30.450951900Z",
     "start_time": "2023-09-02T08:58:30.445513700Z"
    }
   },
   "outputs": [],
   "source": [
    "import pandas as pd\n",
    "import sys\n",
    "import numpy as np\n",
    "import random\n",
    "pd.options.mode.chained_assignment = None \n",
    "np.set_printoptions(threshold=sys.maxsize)\n"
   ]
  },
  {
   "cell_type": "markdown",
   "source": [
    "Linear regression class"
   ],
   "metadata": {
    "collapsed": false
   },
   "id": "e3126a7b7458553c"
  },
  {
   "cell_type": "code",
   "execution_count": 43,
   "outputs": [],
   "source": [
    "class LinearRegression:\n",
    "    \n",
    "    def __init__(self,path,y,x):\n",
    "        self.file=pd.read_csv(path)\n",
    "        self.m=len(self.file)\n",
    "        self.y=y\n",
    "        self.x=x\n",
    "    \n",
    "    def hOfTheta(self,b0,b1,x):\n",
    "        return b0+(b1*x)\n",
    "    #Statistical Method of simple linear regression\n",
    "    def statistical(self):\n",
    "        xMatrix=self.file[self.x].to_numpy()\n",
    "        yMatrix=self.file[self.y].to_numpy()\n",
    "        xAVG=np.average(xMatrix)\n",
    "        yAVG=np.average(yMatrix)\n",
    "        xi_xAVG=xMatrix-xAVG\n",
    "        yi_yAVG=yMatrix-yAVG\n",
    "        numeratorMatrix=xi_xAVG*yi_yAVG\n",
    "        denominatorMatrix=xi_xAVG*xi_xAVG\n",
    "        B1=round(numeratorMatrix.sum()/denominatorMatrix.sum(),2)\n",
    "        B0=round(yAVG-(B1*xAVG),2)\n",
    "        print(\"Y={} + {}X\".format(B0,B1))\n",
    "        \n",
    "    def machineLearning(self,epochs,alpha):\n",
    "        b0=random.random()\n",
    "        b1=random.random()\n",
    "        while epochs>0:\n",
    "            xMatrix=self.file[self.x].to_numpy()\n",
    "            yMatrix=self.file[self.y].to_numpy()\n",
    "            hTHeta=b0+xMatrix*b1\n",
    "            errorMatrix=hTHeta-yMatrix\n",
    "            sumMatrix=errorMatrix*xMatrix\n",
    "            b0=b0-((alpha/self.m)*sumMatrix.sum())\n",
    "            b1=b1-((alpha/self.m)*sumMatrix.sum())\n",
    "            epochs-=1\n",
    "        print(\"Y={} + {}X\".format(round(b0,3),round(b1,3)))"
   ],
   "metadata": {
    "collapsed": false,
    "ExecuteTime": {
     "end_time": "2023-09-02T08:58:31.418256600Z",
     "start_time": "2023-09-02T08:58:31.411644Z"
    }
   },
   "id": "db76a6c9db99bccf"
  },
  {
   "cell_type": "markdown",
   "source": [
    "Object creation"
   ],
   "metadata": {
    "collapsed": false
   },
   "id": "5259d8aec35cb3eb"
  },
  {
   "cell_type": "code",
   "execution_count": 44,
   "outputs": [],
   "source": [
    "obj=LinearRegression(\"./income.data.csv\",\"happiness\",\"income\")"
   ],
   "metadata": {
    "collapsed": false,
    "ExecuteTime": {
     "end_time": "2023-09-02T08:58:33.240055200Z",
     "start_time": "2023-09-02T08:58:33.231656200Z"
    }
   },
   "id": "aba290daa57fbcad"
  },
  {
   "cell_type": "code",
   "execution_count": 33,
   "outputs": [
    {
     "name": "stdout",
     "output_type": "stream",
     "text": [
      "Y=0.22 + 0.71X\n"
     ]
    }
   ],
   "source": [
    "obj.statistical()"
   ],
   "metadata": {
    "collapsed": false,
    "ExecuteTime": {
     "end_time": "2023-09-02T08:56:47.401548400Z",
     "start_time": "2023-09-02T08:56:47.393054600Z"
    }
   },
   "id": "77f20fc7d79095a3"
  },
  {
   "cell_type": "code",
   "execution_count": 45,
   "outputs": [
    {
     "name": "stdout",
     "output_type": "stream",
     "text": [
      "Y=0.498 + 0.657X\n"
     ]
    }
   ],
   "source": [
    "obj.machineLearning(25,0.01)"
   ],
   "metadata": {
    "collapsed": false,
    "ExecuteTime": {
     "end_time": "2023-09-02T08:58:34.655027Z",
     "start_time": "2023-09-02T08:58:34.648480700Z"
    }
   },
   "id": "ac9599a0df5ddf22"
  }
 ],
 "metadata": {
  "kernelspec": {
   "display_name": "Python 3",
   "language": "python",
   "name": "python3"
  },
  "language_info": {
   "codemirror_mode": {
    "name": "ipython",
    "version": 2
   },
   "file_extension": ".py",
   "mimetype": "text/x-python",
   "name": "python",
   "nbconvert_exporter": "python",
   "pygments_lexer": "ipython2",
   "version": "2.7.6"
  }
 },
 "nbformat": 4,
 "nbformat_minor": 5
}
