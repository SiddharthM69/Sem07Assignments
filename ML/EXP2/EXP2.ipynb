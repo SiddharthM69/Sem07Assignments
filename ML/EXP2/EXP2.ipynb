{
 "cells": [
  {
   "cell_type": "code",
   "execution_count": 88,
   "id": "initial_id",
   "metadata": {
    "collapsed": true,
    "ExecuteTime": {
     "end_time": "2023-09-01T09:56:03.038480800Z",
     "start_time": "2023-09-01T09:56:03.033152800Z"
    }
   },
   "outputs": [],
   "source": [
    "import pandas as pd\n",
    "import sys\n",
    "import numpy as np\n",
    "pd.options.mode.chained_assignment = None \n",
    "np.set_printoptions(threshold=sys.maxsize)\n"
   ]
  },
  {
   "cell_type": "markdown",
   "source": [
    "Statistical linear regression class"
   ],
   "metadata": {
    "collapsed": false
   },
   "id": "e3126a7b7458553c"
  },
  {
   "cell_type": "code",
   "execution_count": 132,
   "outputs": [],
   "source": [
    "class LinearRegression:\n",
    "    \n",
    "    def __init__(self,path,y,x):\n",
    "        self.file=pd.read_csv(path)\n",
    "        self.y=y\n",
    "        self.x=x\n",
    "    \n",
    "    #Statistical Method of simple linear regression\n",
    "    def statistical(self):\n",
    "        xMatrix=self.file[self.x].to_numpy()\n",
    "        yMatrix=self.file[self.y].to_numpy()\n",
    "        xAVG=np.average(xMatrix)\n",
    "        yAVG=np.average(yMatrix)\n",
    "        xi_xAVG=xMatrix-xAVG\n",
    "        yi_yAVG=yMatrix-yAVG\n",
    "        numeratorMatrix=xi_xAVG*yi_yAVG\n",
    "        denominatorMatrix=xi_xAVG*xi_xAVG\n",
    "        B1=round(numeratorMatrix.sum()/denominatorMatrix.sum(),2)\n",
    "        B0=round(yAVG-(B1*xAVG),2)\n",
    "        print(\"Y={} + {}X\".format(B0,B1))"
   ],
   "metadata": {
    "collapsed": false,
    "ExecuteTime": {
     "end_time": "2023-09-01T10:17:06.189236900Z",
     "start_time": "2023-09-01T10:17:06.178870400Z"
    }
   },
   "id": "db76a6c9db99bccf"
  },
  {
   "cell_type": "markdown",
   "source": [
    "Object creation"
   ],
   "metadata": {
    "collapsed": false
   },
   "id": "5259d8aec35cb3eb"
  },
  {
   "cell_type": "code",
   "execution_count": 130,
   "outputs": [],
   "source": [
    "obj=LinearRegression(\"./income.data.csv\",\"happiness\",\"income\")"
   ],
   "metadata": {
    "collapsed": false,
    "ExecuteTime": {
     "end_time": "2023-09-01T10:16:09.035666100Z",
     "start_time": "2023-09-01T10:16:09.029133700Z"
    }
   },
   "id": "aba290daa57fbcad"
  },
  {
   "cell_type": "code",
   "execution_count": 131,
   "outputs": [
    {
     "name": "stdout",
     "output_type": "stream",
     "text": [
      "Y=0.22 + 0.71X\n"
     ]
    }
   ],
   "source": [
    "obj.statistical()"
   ],
   "metadata": {
    "collapsed": false,
    "ExecuteTime": {
     "end_time": "2023-09-01T10:16:10.153584Z",
     "start_time": "2023-09-01T10:16:10.148394700Z"
    }
   },
   "id": "77f20fc7d79095a3"
  }
 ],
 "metadata": {
  "kernelspec": {
   "display_name": "Python 3",
   "language": "python",
   "name": "python3"
  },
  "language_info": {
   "codemirror_mode": {
    "name": "ipython",
    "version": 2
   },
   "file_extension": ".py",
   "mimetype": "text/x-python",
   "name": "python",
   "nbconvert_exporter": "python",
   "pygments_lexer": "ipython2",
   "version": "2.7.6"
  }
 },
 "nbformat": 4,
 "nbformat_minor": 5
}
